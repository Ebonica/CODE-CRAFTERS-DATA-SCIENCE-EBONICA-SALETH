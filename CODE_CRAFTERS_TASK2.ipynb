{
  "nbformat": 4,
  "nbformat_minor": 0,
  "metadata": {
    "colab": {
      "provenance": [],
      "authorship_tag": "ABX9TyPINgQT1RcRPuJNyUOQme1n",
      "include_colab_link": true
    },
    "kernelspec": {
      "name": "python3",
      "display_name": "Python 3"
    },
    "language_info": {
      "name": "python"
    }
  },
  "cells": [
    {
      "cell_type": "markdown",
      "metadata": {
        "id": "view-in-github",
        "colab_type": "text"
      },
      "source": [
        "<a href=\"https://colab.research.google.com/github/Ebonica/CODE-CRAFTERS-DATA-SCIENCE-EBONICA-SALETH/blob/main/CODE_CRAFTERS_TASK2.ipynb\" target=\"_parent\"><img src=\"https://colab.research.google.com/assets/colab-badge.svg\" alt=\"Open In Colab\"/></a>"
      ]
    },
    {
      "cell_type": "markdown",
      "source": [
        "**CODE CRAFTERS TASK2 DATA SCIENCE AND MACHINE LEARNING**"
      ],
      "metadata": {
        "id": "bYAZ99LnYLxZ"
      }
    },
    {
      "cell_type": "markdown",
      "source": [
        "**HOUSE PRICE PREDICTIONS USING LOGISTIC REGRESSION**"
      ],
      "metadata": {
        "id": "_OZ8X-WUYLn1"
      }
    },
    {
      "cell_type": "code",
      "execution_count": 38,
      "metadata": {
        "id": "49Bt69OV08mW"
      },
      "outputs": [],
      "source": [
        "import pandas as pd\n",
        "from sklearn.model_selection import train_test_split\n",
        "from sklearn.linear_model import LogisticRegression\n",
        "from sklearn.preprocessing import StandardScaler\n",
        "from sklearn.metrics import accuracy_score, classification_report\n",
        "import matplotlib.pyplot as plt\n",
        "import seaborn as sns\n",
        "from sklearn.metrics import confusion_matrix\n",
        "from sklearn.linear_model import LinearRegression\n",
        "from sklearn.metrics import mean_squared_error"
      ]
    },
    {
      "cell_type": "markdown",
      "source": [
        "**LOADING THE GIVEN DATASET**"
      ],
      "metadata": {
        "id": "rxML1XLnYpp3"
      }
    },
    {
      "cell_type": "code",
      "source": [
        "from google.colab import files\n",
        "uploaded=files.upload()"
      ],
      "metadata": {
        "colab": {
          "base_uri": "https://localhost:8080/",
          "height": 73
        },
        "id": "BT11ugp6Yna4",
        "outputId": "c78e9545-816a-4fb7-e0cf-58b1cb740bf4"
      },
      "execution_count": 44,
      "outputs": [
        {
          "output_type": "display_data",
          "data": {
            "text/plain": [
              "<IPython.core.display.HTML object>"
            ],
            "text/html": [
              "\n",
              "     <input type=\"file\" id=\"files-808e7511-643c-4898-9e7b-f373a3c05e46\" name=\"files[]\" multiple disabled\n",
              "        style=\"border:none\" />\n",
              "     <output id=\"result-808e7511-643c-4898-9e7b-f373a3c05e46\">\n",
              "      Upload widget is only available when the cell has been executed in the\n",
              "      current browser session. Please rerun this cell to enable.\n",
              "      </output>\n",
              "      <script>// Copyright 2017 Google LLC\n",
              "//\n",
              "// Licensed under the Apache License, Version 2.0 (the \"License\");\n",
              "// you may not use this file except in compliance with the License.\n",
              "// You may obtain a copy of the License at\n",
              "//\n",
              "//      http://www.apache.org/licenses/LICENSE-2.0\n",
              "//\n",
              "// Unless required by applicable law or agreed to in writing, software\n",
              "// distributed under the License is distributed on an \"AS IS\" BASIS,\n",
              "// WITHOUT WARRANTIES OR CONDITIONS OF ANY KIND, either express or implied.\n",
              "// See the License for the specific language governing permissions and\n",
              "// limitations under the License.\n",
              "\n",
              "/**\n",
              " * @fileoverview Helpers for google.colab Python module.\n",
              " */\n",
              "(function(scope) {\n",
              "function span(text, styleAttributes = {}) {\n",
              "  const element = document.createElement('span');\n",
              "  element.textContent = text;\n",
              "  for (const key of Object.keys(styleAttributes)) {\n",
              "    element.style[key] = styleAttributes[key];\n",
              "  }\n",
              "  return element;\n",
              "}\n",
              "\n",
              "// Max number of bytes which will be uploaded at a time.\n",
              "const MAX_PAYLOAD_SIZE = 100 * 1024;\n",
              "\n",
              "function _uploadFiles(inputId, outputId) {\n",
              "  const steps = uploadFilesStep(inputId, outputId);\n",
              "  const outputElement = document.getElementById(outputId);\n",
              "  // Cache steps on the outputElement to make it available for the next call\n",
              "  // to uploadFilesContinue from Python.\n",
              "  outputElement.steps = steps;\n",
              "\n",
              "  return _uploadFilesContinue(outputId);\n",
              "}\n",
              "\n",
              "// This is roughly an async generator (not supported in the browser yet),\n",
              "// where there are multiple asynchronous steps and the Python side is going\n",
              "// to poll for completion of each step.\n",
              "// This uses a Promise to block the python side on completion of each step,\n",
              "// then passes the result of the previous step as the input to the next step.\n",
              "function _uploadFilesContinue(outputId) {\n",
              "  const outputElement = document.getElementById(outputId);\n",
              "  const steps = outputElement.steps;\n",
              "\n",
              "  const next = steps.next(outputElement.lastPromiseValue);\n",
              "  return Promise.resolve(next.value.promise).then((value) => {\n",
              "    // Cache the last promise value to make it available to the next\n",
              "    // step of the generator.\n",
              "    outputElement.lastPromiseValue = value;\n",
              "    return next.value.response;\n",
              "  });\n",
              "}\n",
              "\n",
              "/**\n",
              " * Generator function which is called between each async step of the upload\n",
              " * process.\n",
              " * @param {string} inputId Element ID of the input file picker element.\n",
              " * @param {string} outputId Element ID of the output display.\n",
              " * @return {!Iterable<!Object>} Iterable of next steps.\n",
              " */\n",
              "function* uploadFilesStep(inputId, outputId) {\n",
              "  const inputElement = document.getElementById(inputId);\n",
              "  inputElement.disabled = false;\n",
              "\n",
              "  const outputElement = document.getElementById(outputId);\n",
              "  outputElement.innerHTML = '';\n",
              "\n",
              "  const pickedPromise = new Promise((resolve) => {\n",
              "    inputElement.addEventListener('change', (e) => {\n",
              "      resolve(e.target.files);\n",
              "    });\n",
              "  });\n",
              "\n",
              "  const cancel = document.createElement('button');\n",
              "  inputElement.parentElement.appendChild(cancel);\n",
              "  cancel.textContent = 'Cancel upload';\n",
              "  const cancelPromise = new Promise((resolve) => {\n",
              "    cancel.onclick = () => {\n",
              "      resolve(null);\n",
              "    };\n",
              "  });\n",
              "\n",
              "  // Wait for the user to pick the files.\n",
              "  const files = yield {\n",
              "    promise: Promise.race([pickedPromise, cancelPromise]),\n",
              "    response: {\n",
              "      action: 'starting',\n",
              "    }\n",
              "  };\n",
              "\n",
              "  cancel.remove();\n",
              "\n",
              "  // Disable the input element since further picks are not allowed.\n",
              "  inputElement.disabled = true;\n",
              "\n",
              "  if (!files) {\n",
              "    return {\n",
              "      response: {\n",
              "        action: 'complete',\n",
              "      }\n",
              "    };\n",
              "  }\n",
              "\n",
              "  for (const file of files) {\n",
              "    const li = document.createElement('li');\n",
              "    li.append(span(file.name, {fontWeight: 'bold'}));\n",
              "    li.append(span(\n",
              "        `(${file.type || 'n/a'}) - ${file.size} bytes, ` +\n",
              "        `last modified: ${\n",
              "            file.lastModifiedDate ? file.lastModifiedDate.toLocaleDateString() :\n",
              "                                    'n/a'} - `));\n",
              "    const percent = span('0% done');\n",
              "    li.appendChild(percent);\n",
              "\n",
              "    outputElement.appendChild(li);\n",
              "\n",
              "    const fileDataPromise = new Promise((resolve) => {\n",
              "      const reader = new FileReader();\n",
              "      reader.onload = (e) => {\n",
              "        resolve(e.target.result);\n",
              "      };\n",
              "      reader.readAsArrayBuffer(file);\n",
              "    });\n",
              "    // Wait for the data to be ready.\n",
              "    let fileData = yield {\n",
              "      promise: fileDataPromise,\n",
              "      response: {\n",
              "        action: 'continue',\n",
              "      }\n",
              "    };\n",
              "\n",
              "    // Use a chunked sending to avoid message size limits. See b/62115660.\n",
              "    let position = 0;\n",
              "    do {\n",
              "      const length = Math.min(fileData.byteLength - position, MAX_PAYLOAD_SIZE);\n",
              "      const chunk = new Uint8Array(fileData, position, length);\n",
              "      position += length;\n",
              "\n",
              "      const base64 = btoa(String.fromCharCode.apply(null, chunk));\n",
              "      yield {\n",
              "        response: {\n",
              "          action: 'append',\n",
              "          file: file.name,\n",
              "          data: base64,\n",
              "        },\n",
              "      };\n",
              "\n",
              "      let percentDone = fileData.byteLength === 0 ?\n",
              "          100 :\n",
              "          Math.round((position / fileData.byteLength) * 100);\n",
              "      percent.textContent = `${percentDone}% done`;\n",
              "\n",
              "    } while (position < fileData.byteLength);\n",
              "  }\n",
              "\n",
              "  // All done.\n",
              "  yield {\n",
              "    response: {\n",
              "      action: 'complete',\n",
              "    }\n",
              "  };\n",
              "}\n",
              "\n",
              "scope.google = scope.google || {};\n",
              "scope.google.colab = scope.google.colab || {};\n",
              "scope.google.colab._files = {\n",
              "  _uploadFiles,\n",
              "  _uploadFilesContinue,\n",
              "};\n",
              "})(self);\n",
              "</script> "
            ]
          },
          "metadata": {}
        },
        {
          "output_type": "stream",
          "name": "stdout",
          "text": [
            "Saving USA_Housing.csv to USA_Housing (1).csv\n"
          ]
        }
      ]
    },
    {
      "cell_type": "markdown",
      "source": [
        "**READING THE GIVEN DATASET**"
      ],
      "metadata": {
        "id": "D_GbyM_2Y1w5"
      }
    },
    {
      "cell_type": "code",
      "source": [
        "data=pd.read_csv(\"USA_Housing.csv\")"
      ],
      "metadata": {
        "id": "l6osJw9RYyiQ"
      },
      "execution_count": 45,
      "outputs": []
    },
    {
      "cell_type": "code",
      "source": [
        "data"
      ],
      "metadata": {
        "colab": {
          "base_uri": "https://localhost:8080/",
          "height": 423
        },
        "id": "9QRioLy1Qw9R",
        "outputId": "fc21a7f7-d9f3-4dda-84dc-648df011e050"
      },
      "execution_count": 46,
      "outputs": [
        {
          "output_type": "execute_result",
          "data": {
            "text/plain": [
              "      Avg. Area Income  Avg. Area House Age  Avg. Area Number of Rooms  \\\n",
              "0         79545.458574             5.682861                   7.009188   \n",
              "1         79248.642455             6.002900                   6.730821   \n",
              "2         61287.067179             5.865890                   8.512727   \n",
              "3         63345.240046             7.188236                   5.586729   \n",
              "4         59982.197226             5.040555                   7.839388   \n",
              "...                ...                  ...                        ...   \n",
              "4995      60567.944140             7.830362                   6.137356   \n",
              "4996      78491.275435             6.999135                   6.576763   \n",
              "4997      63390.686886             7.250591                   4.805081   \n",
              "4998      68001.331235             5.534388                   7.130144   \n",
              "4999      65510.581804             5.992305                   6.792336   \n",
              "\n",
              "      Avg. Area Number of Bedrooms  Area Population         Price  \\\n",
              "0                             4.09     23086.800503  1.059034e+06   \n",
              "1                             3.09     40173.072174  1.505891e+06   \n",
              "2                             5.13     36882.159400  1.058988e+06   \n",
              "3                             3.26     34310.242831  1.260617e+06   \n",
              "4                             4.23     26354.109472  6.309435e+05   \n",
              "...                            ...              ...           ...   \n",
              "4995                          3.46     22837.361035  1.060194e+06   \n",
              "4996                          4.02     25616.115489  1.482618e+06   \n",
              "4997                          2.13     33266.145490  1.030730e+06   \n",
              "4998                          5.44     42625.620156  1.198657e+06   \n",
              "4999                          4.07     46501.283803  1.298950e+06   \n",
              "\n",
              "                                                Address  \n",
              "0     208 Michael Ferry Apt. 674\\nLaurabury, NE 3701...  \n",
              "1     188 Johnson Views Suite 079\\nLake Kathleen, CA...  \n",
              "2     9127 Elizabeth Stravenue\\nDanieltown, WI 06482...  \n",
              "3                             USS Barnett\\nFPO AP 44820  \n",
              "4                            USNS Raymond\\nFPO AE 09386  \n",
              "...                                                 ...  \n",
              "4995                   USNS Williams\\nFPO AP 30153-7653  \n",
              "4996              PSC 9258, Box 8489\\nAPO AA 42991-3352  \n",
              "4997  4215 Tracy Garden Suite 076\\nJoshualand, VA 01...  \n",
              "4998                          USS Wallace\\nFPO AE 73316  \n",
              "4999  37778 George Ridges Apt. 509\\nEast Holly, NV 2...  \n",
              "\n",
              "[5000 rows x 7 columns]"
            ],
            "text/html": [
              "\n",
              "  <div id=\"df-c1dddd74-14b6-4059-a4e7-8a6272ea65a5\" class=\"colab-df-container\">\n",
              "    <div>\n",
              "<style scoped>\n",
              "    .dataframe tbody tr th:only-of-type {\n",
              "        vertical-align: middle;\n",
              "    }\n",
              "\n",
              "    .dataframe tbody tr th {\n",
              "        vertical-align: top;\n",
              "    }\n",
              "\n",
              "    .dataframe thead th {\n",
              "        text-align: right;\n",
              "    }\n",
              "</style>\n",
              "<table border=\"1\" class=\"dataframe\">\n",
              "  <thead>\n",
              "    <tr style=\"text-align: right;\">\n",
              "      <th></th>\n",
              "      <th>Avg. Area Income</th>\n",
              "      <th>Avg. Area House Age</th>\n",
              "      <th>Avg. Area Number of Rooms</th>\n",
              "      <th>Avg. Area Number of Bedrooms</th>\n",
              "      <th>Area Population</th>\n",
              "      <th>Price</th>\n",
              "      <th>Address</th>\n",
              "    </tr>\n",
              "  </thead>\n",
              "  <tbody>\n",
              "    <tr>\n",
              "      <th>0</th>\n",
              "      <td>79545.458574</td>\n",
              "      <td>5.682861</td>\n",
              "      <td>7.009188</td>\n",
              "      <td>4.09</td>\n",
              "      <td>23086.800503</td>\n",
              "      <td>1.059034e+06</td>\n",
              "      <td>208 Michael Ferry Apt. 674\\nLaurabury, NE 3701...</td>\n",
              "    </tr>\n",
              "    <tr>\n",
              "      <th>1</th>\n",
              "      <td>79248.642455</td>\n",
              "      <td>6.002900</td>\n",
              "      <td>6.730821</td>\n",
              "      <td>3.09</td>\n",
              "      <td>40173.072174</td>\n",
              "      <td>1.505891e+06</td>\n",
              "      <td>188 Johnson Views Suite 079\\nLake Kathleen, CA...</td>\n",
              "    </tr>\n",
              "    <tr>\n",
              "      <th>2</th>\n",
              "      <td>61287.067179</td>\n",
              "      <td>5.865890</td>\n",
              "      <td>8.512727</td>\n",
              "      <td>5.13</td>\n",
              "      <td>36882.159400</td>\n",
              "      <td>1.058988e+06</td>\n",
              "      <td>9127 Elizabeth Stravenue\\nDanieltown, WI 06482...</td>\n",
              "    </tr>\n",
              "    <tr>\n",
              "      <th>3</th>\n",
              "      <td>63345.240046</td>\n",
              "      <td>7.188236</td>\n",
              "      <td>5.586729</td>\n",
              "      <td>3.26</td>\n",
              "      <td>34310.242831</td>\n",
              "      <td>1.260617e+06</td>\n",
              "      <td>USS Barnett\\nFPO AP 44820</td>\n",
              "    </tr>\n",
              "    <tr>\n",
              "      <th>4</th>\n",
              "      <td>59982.197226</td>\n",
              "      <td>5.040555</td>\n",
              "      <td>7.839388</td>\n",
              "      <td>4.23</td>\n",
              "      <td>26354.109472</td>\n",
              "      <td>6.309435e+05</td>\n",
              "      <td>USNS Raymond\\nFPO AE 09386</td>\n",
              "    </tr>\n",
              "    <tr>\n",
              "      <th>...</th>\n",
              "      <td>...</td>\n",
              "      <td>...</td>\n",
              "      <td>...</td>\n",
              "      <td>...</td>\n",
              "      <td>...</td>\n",
              "      <td>...</td>\n",
              "      <td>...</td>\n",
              "    </tr>\n",
              "    <tr>\n",
              "      <th>4995</th>\n",
              "      <td>60567.944140</td>\n",
              "      <td>7.830362</td>\n",
              "      <td>6.137356</td>\n",
              "      <td>3.46</td>\n",
              "      <td>22837.361035</td>\n",
              "      <td>1.060194e+06</td>\n",
              "      <td>USNS Williams\\nFPO AP 30153-7653</td>\n",
              "    </tr>\n",
              "    <tr>\n",
              "      <th>4996</th>\n",
              "      <td>78491.275435</td>\n",
              "      <td>6.999135</td>\n",
              "      <td>6.576763</td>\n",
              "      <td>4.02</td>\n",
              "      <td>25616.115489</td>\n",
              "      <td>1.482618e+06</td>\n",
              "      <td>PSC 9258, Box 8489\\nAPO AA 42991-3352</td>\n",
              "    </tr>\n",
              "    <tr>\n",
              "      <th>4997</th>\n",
              "      <td>63390.686886</td>\n",
              "      <td>7.250591</td>\n",
              "      <td>4.805081</td>\n",
              "      <td>2.13</td>\n",
              "      <td>33266.145490</td>\n",
              "      <td>1.030730e+06</td>\n",
              "      <td>4215 Tracy Garden Suite 076\\nJoshualand, VA 01...</td>\n",
              "    </tr>\n",
              "    <tr>\n",
              "      <th>4998</th>\n",
              "      <td>68001.331235</td>\n",
              "      <td>5.534388</td>\n",
              "      <td>7.130144</td>\n",
              "      <td>5.44</td>\n",
              "      <td>42625.620156</td>\n",
              "      <td>1.198657e+06</td>\n",
              "      <td>USS Wallace\\nFPO AE 73316</td>\n",
              "    </tr>\n",
              "    <tr>\n",
              "      <th>4999</th>\n",
              "      <td>65510.581804</td>\n",
              "      <td>5.992305</td>\n",
              "      <td>6.792336</td>\n",
              "      <td>4.07</td>\n",
              "      <td>46501.283803</td>\n",
              "      <td>1.298950e+06</td>\n",
              "      <td>37778 George Ridges Apt. 509\\nEast Holly, NV 2...</td>\n",
              "    </tr>\n",
              "  </tbody>\n",
              "</table>\n",
              "<p>5000 rows × 7 columns</p>\n",
              "</div>\n",
              "    <div class=\"colab-df-buttons\">\n",
              "\n",
              "  <div class=\"colab-df-container\">\n",
              "    <button class=\"colab-df-convert\" onclick=\"convertToInteractive('df-c1dddd74-14b6-4059-a4e7-8a6272ea65a5')\"\n",
              "            title=\"Convert this dataframe to an interactive table.\"\n",
              "            style=\"display:none;\">\n",
              "\n",
              "  <svg xmlns=\"http://www.w3.org/2000/svg\" height=\"24px\" viewBox=\"0 -960 960 960\">\n",
              "    <path d=\"M120-120v-720h720v720H120Zm60-500h600v-160H180v160Zm220 220h160v-160H400v160Zm0 220h160v-160H400v160ZM180-400h160v-160H180v160Zm440 0h160v-160H620v160ZM180-180h160v-160H180v160Zm440 0h160v-160H620v160Z\"/>\n",
              "  </svg>\n",
              "    </button>\n",
              "\n",
              "  <style>\n",
              "    .colab-df-container {\n",
              "      display:flex;\n",
              "      gap: 12px;\n",
              "    }\n",
              "\n",
              "    .colab-df-convert {\n",
              "      background-color: #E8F0FE;\n",
              "      border: none;\n",
              "      border-radius: 50%;\n",
              "      cursor: pointer;\n",
              "      display: none;\n",
              "      fill: #1967D2;\n",
              "      height: 32px;\n",
              "      padding: 0 0 0 0;\n",
              "      width: 32px;\n",
              "    }\n",
              "\n",
              "    .colab-df-convert:hover {\n",
              "      background-color: #E2EBFA;\n",
              "      box-shadow: 0px 1px 2px rgba(60, 64, 67, 0.3), 0px 1px 3px 1px rgba(60, 64, 67, 0.15);\n",
              "      fill: #174EA6;\n",
              "    }\n",
              "\n",
              "    .colab-df-buttons div {\n",
              "      margin-bottom: 4px;\n",
              "    }\n",
              "\n",
              "    [theme=dark] .colab-df-convert {\n",
              "      background-color: #3B4455;\n",
              "      fill: #D2E3FC;\n",
              "    }\n",
              "\n",
              "    [theme=dark] .colab-df-convert:hover {\n",
              "      background-color: #434B5C;\n",
              "      box-shadow: 0px 1px 3px 1px rgba(0, 0, 0, 0.15);\n",
              "      filter: drop-shadow(0px 1px 2px rgba(0, 0, 0, 0.3));\n",
              "      fill: #FFFFFF;\n",
              "    }\n",
              "  </style>\n",
              "\n",
              "    <script>\n",
              "      const buttonEl =\n",
              "        document.querySelector('#df-c1dddd74-14b6-4059-a4e7-8a6272ea65a5 button.colab-df-convert');\n",
              "      buttonEl.style.display =\n",
              "        google.colab.kernel.accessAllowed ? 'block' : 'none';\n",
              "\n",
              "      async function convertToInteractive(key) {\n",
              "        const element = document.querySelector('#df-c1dddd74-14b6-4059-a4e7-8a6272ea65a5');\n",
              "        const dataTable =\n",
              "          await google.colab.kernel.invokeFunction('convertToInteractive',\n",
              "                                                    [key], {});\n",
              "        if (!dataTable) return;\n",
              "\n",
              "        const docLinkHtml = 'Like what you see? Visit the ' +\n",
              "          '<a target=\"_blank\" href=https://colab.research.google.com/notebooks/data_table.ipynb>data table notebook</a>'\n",
              "          + ' to learn more about interactive tables.';\n",
              "        element.innerHTML = '';\n",
              "        dataTable['output_type'] = 'display_data';\n",
              "        await google.colab.output.renderOutput(dataTable, element);\n",
              "        const docLink = document.createElement('div');\n",
              "        docLink.innerHTML = docLinkHtml;\n",
              "        element.appendChild(docLink);\n",
              "      }\n",
              "    </script>\n",
              "  </div>\n",
              "\n",
              "\n",
              "<div id=\"df-9f6bd9df-9239-4881-a6f7-cda3c1c43606\">\n",
              "  <button class=\"colab-df-quickchart\" onclick=\"quickchart('df-9f6bd9df-9239-4881-a6f7-cda3c1c43606')\"\n",
              "            title=\"Suggest charts\"\n",
              "            style=\"display:none;\">\n",
              "\n",
              "<svg xmlns=\"http://www.w3.org/2000/svg\" height=\"24px\"viewBox=\"0 0 24 24\"\n",
              "     width=\"24px\">\n",
              "    <g>\n",
              "        <path d=\"M19 3H5c-1.1 0-2 .9-2 2v14c0 1.1.9 2 2 2h14c1.1 0 2-.9 2-2V5c0-1.1-.9-2-2-2zM9 17H7v-7h2v7zm4 0h-2V7h2v10zm4 0h-2v-4h2v4z\"/>\n",
              "    </g>\n",
              "</svg>\n",
              "  </button>\n",
              "\n",
              "<style>\n",
              "  .colab-df-quickchart {\n",
              "      --bg-color: #E8F0FE;\n",
              "      --fill-color: #1967D2;\n",
              "      --hover-bg-color: #E2EBFA;\n",
              "      --hover-fill-color: #174EA6;\n",
              "      --disabled-fill-color: #AAA;\n",
              "      --disabled-bg-color: #DDD;\n",
              "  }\n",
              "\n",
              "  [theme=dark] .colab-df-quickchart {\n",
              "      --bg-color: #3B4455;\n",
              "      --fill-color: #D2E3FC;\n",
              "      --hover-bg-color: #434B5C;\n",
              "      --hover-fill-color: #FFFFFF;\n",
              "      --disabled-bg-color: #3B4455;\n",
              "      --disabled-fill-color: #666;\n",
              "  }\n",
              "\n",
              "  .colab-df-quickchart {\n",
              "    background-color: var(--bg-color);\n",
              "    border: none;\n",
              "    border-radius: 50%;\n",
              "    cursor: pointer;\n",
              "    display: none;\n",
              "    fill: var(--fill-color);\n",
              "    height: 32px;\n",
              "    padding: 0;\n",
              "    width: 32px;\n",
              "  }\n",
              "\n",
              "  .colab-df-quickchart:hover {\n",
              "    background-color: var(--hover-bg-color);\n",
              "    box-shadow: 0 1px 2px rgba(60, 64, 67, 0.3), 0 1px 3px 1px rgba(60, 64, 67, 0.15);\n",
              "    fill: var(--button-hover-fill-color);\n",
              "  }\n",
              "\n",
              "  .colab-df-quickchart-complete:disabled,\n",
              "  .colab-df-quickchart-complete:disabled:hover {\n",
              "    background-color: var(--disabled-bg-color);\n",
              "    fill: var(--disabled-fill-color);\n",
              "    box-shadow: none;\n",
              "  }\n",
              "\n",
              "  .colab-df-spinner {\n",
              "    border: 2px solid var(--fill-color);\n",
              "    border-color: transparent;\n",
              "    border-bottom-color: var(--fill-color);\n",
              "    animation:\n",
              "      spin 1s steps(1) infinite;\n",
              "  }\n",
              "\n",
              "  @keyframes spin {\n",
              "    0% {\n",
              "      border-color: transparent;\n",
              "      border-bottom-color: var(--fill-color);\n",
              "      border-left-color: var(--fill-color);\n",
              "    }\n",
              "    20% {\n",
              "      border-color: transparent;\n",
              "      border-left-color: var(--fill-color);\n",
              "      border-top-color: var(--fill-color);\n",
              "    }\n",
              "    30% {\n",
              "      border-color: transparent;\n",
              "      border-left-color: var(--fill-color);\n",
              "      border-top-color: var(--fill-color);\n",
              "      border-right-color: var(--fill-color);\n",
              "    }\n",
              "    40% {\n",
              "      border-color: transparent;\n",
              "      border-right-color: var(--fill-color);\n",
              "      border-top-color: var(--fill-color);\n",
              "    }\n",
              "    60% {\n",
              "      border-color: transparent;\n",
              "      border-right-color: var(--fill-color);\n",
              "    }\n",
              "    80% {\n",
              "      border-color: transparent;\n",
              "      border-right-color: var(--fill-color);\n",
              "      border-bottom-color: var(--fill-color);\n",
              "    }\n",
              "    90% {\n",
              "      border-color: transparent;\n",
              "      border-bottom-color: var(--fill-color);\n",
              "    }\n",
              "  }\n",
              "</style>\n",
              "\n",
              "  <script>\n",
              "    async function quickchart(key) {\n",
              "      const quickchartButtonEl =\n",
              "        document.querySelector('#' + key + ' button');\n",
              "      quickchartButtonEl.disabled = true;  // To prevent multiple clicks.\n",
              "      quickchartButtonEl.classList.add('colab-df-spinner');\n",
              "      try {\n",
              "        const charts = await google.colab.kernel.invokeFunction(\n",
              "            'suggestCharts', [key], {});\n",
              "      } catch (error) {\n",
              "        console.error('Error during call to suggestCharts:', error);\n",
              "      }\n",
              "      quickchartButtonEl.classList.remove('colab-df-spinner');\n",
              "      quickchartButtonEl.classList.add('colab-df-quickchart-complete');\n",
              "    }\n",
              "    (() => {\n",
              "      let quickchartButtonEl =\n",
              "        document.querySelector('#df-9f6bd9df-9239-4881-a6f7-cda3c1c43606 button');\n",
              "      quickchartButtonEl.style.display =\n",
              "        google.colab.kernel.accessAllowed ? 'block' : 'none';\n",
              "    })();\n",
              "  </script>\n",
              "</div>\n",
              "    </div>\n",
              "  </div>\n"
            ]
          },
          "metadata": {},
          "execution_count": 46
        }
      ]
    },
    {
      "cell_type": "markdown",
      "source": [
        "**DATA EXPLORATION**"
      ],
      "metadata": {
        "id": "Mz6eLdXoQ2-k"
      }
    },
    {
      "cell_type": "code",
      "source": [
        "print(\"First few rows of the dataset:\")\n",
        "print(data.head())"
      ],
      "metadata": {
        "colab": {
          "base_uri": "https://localhost:8080/"
        },
        "id": "8bRsbnfrQxQV",
        "outputId": "b6461ede-324c-4043-b714-e96fd603ae52"
      },
      "execution_count": 47,
      "outputs": [
        {
          "output_type": "stream",
          "name": "stdout",
          "text": [
            "First few rows of the dataset:\n",
            "   Avg. Area Income  Avg. Area House Age  Avg. Area Number of Rooms  \\\n",
            "0      79545.458574             5.682861                   7.009188   \n",
            "1      79248.642455             6.002900                   6.730821   \n",
            "2      61287.067179             5.865890                   8.512727   \n",
            "3      63345.240046             7.188236                   5.586729   \n",
            "4      59982.197226             5.040555                   7.839388   \n",
            "\n",
            "   Avg. Area Number of Bedrooms  Area Population         Price  \\\n",
            "0                          4.09     23086.800503  1.059034e+06   \n",
            "1                          3.09     40173.072174  1.505891e+06   \n",
            "2                          5.13     36882.159400  1.058988e+06   \n",
            "3                          3.26     34310.242831  1.260617e+06   \n",
            "4                          4.23     26354.109472  6.309435e+05   \n",
            "\n",
            "                                             Address  \n",
            "0  208 Michael Ferry Apt. 674\\nLaurabury, NE 3701...  \n",
            "1  188 Johnson Views Suite 079\\nLake Kathleen, CA...  \n",
            "2  9127 Elizabeth Stravenue\\nDanieltown, WI 06482...  \n",
            "3                          USS Barnett\\nFPO AP 44820  \n",
            "4                         USNS Raymond\\nFPO AE 09386  \n"
          ]
        }
      ]
    },
    {
      "cell_type": "code",
      "source": [
        "print(\"Last few rows of the dataset:\")\n",
        "print(data.tail())"
      ],
      "metadata": {
        "colab": {
          "base_uri": "https://localhost:8080/"
        },
        "id": "FmRHdXKIQxVI",
        "outputId": "abb0764e-0248-4486-8e5c-fe10c6d0e38e"
      },
      "execution_count": 48,
      "outputs": [
        {
          "output_type": "stream",
          "name": "stdout",
          "text": [
            "Last few rows of the dataset:\n",
            "      Avg. Area Income  Avg. Area House Age  Avg. Area Number of Rooms  \\\n",
            "4995      60567.944140             7.830362                   6.137356   \n",
            "4996      78491.275435             6.999135                   6.576763   \n",
            "4997      63390.686886             7.250591                   4.805081   \n",
            "4998      68001.331235             5.534388                   7.130144   \n",
            "4999      65510.581804             5.992305                   6.792336   \n",
            "\n",
            "      Avg. Area Number of Bedrooms  Area Population         Price  \\\n",
            "4995                          3.46     22837.361035  1.060194e+06   \n",
            "4996                          4.02     25616.115489  1.482618e+06   \n",
            "4997                          2.13     33266.145490  1.030730e+06   \n",
            "4998                          5.44     42625.620156  1.198657e+06   \n",
            "4999                          4.07     46501.283803  1.298950e+06   \n",
            "\n",
            "                                                Address  \n",
            "4995                   USNS Williams\\nFPO AP 30153-7653  \n",
            "4996              PSC 9258, Box 8489\\nAPO AA 42991-3352  \n",
            "4997  4215 Tracy Garden Suite 076\\nJoshualand, VA 01...  \n",
            "4998                          USS Wallace\\nFPO AE 73316  \n",
            "4999  37778 George Ridges Apt. 509\\nEast Holly, NV 2...  \n"
          ]
        }
      ]
    },
    {
      "cell_type": "code",
      "source": [
        "print(\"Dataset Information:\")\n",
        "print(data.info())"
      ],
      "metadata": {
        "colab": {
          "base_uri": "https://localhost:8080/"
        },
        "id": "bywiH9FyQ8CI",
        "outputId": "378c07cb-b8ea-41c4-d75d-ba4ef34c7b25"
      },
      "execution_count": 49,
      "outputs": [
        {
          "output_type": "stream",
          "name": "stdout",
          "text": [
            "Dataset Information:\n",
            "<class 'pandas.core.frame.DataFrame'>\n",
            "RangeIndex: 5000 entries, 0 to 4999\n",
            "Data columns (total 7 columns):\n",
            " #   Column                        Non-Null Count  Dtype  \n",
            "---  ------                        --------------  -----  \n",
            " 0   Avg. Area Income              5000 non-null   float64\n",
            " 1   Avg. Area House Age           5000 non-null   float64\n",
            " 2   Avg. Area Number of Rooms     5000 non-null   float64\n",
            " 3   Avg. Area Number of Bedrooms  5000 non-null   float64\n",
            " 4   Area Population               5000 non-null   float64\n",
            " 5   Price                         5000 non-null   float64\n",
            " 6   Address                       5000 non-null   object \n",
            "dtypes: float64(6), object(1)\n",
            "memory usage: 273.6+ KB\n",
            "None\n"
          ]
        }
      ]
    },
    {
      "cell_type": "code",
      "source": [
        "print(\"\\nSummary statistics:\")\n",
        "print(data.describe())"
      ],
      "metadata": {
        "colab": {
          "base_uri": "https://localhost:8080/"
        },
        "id": "exmuz4I4Q-eT",
        "outputId": "a7a41de7-b4eb-4c19-adc9-464c4be58d57"
      },
      "execution_count": 50,
      "outputs": [
        {
          "output_type": "stream",
          "name": "stdout",
          "text": [
            "\n",
            "Summary statistics:\n",
            "       Avg. Area Income  Avg. Area House Age  Avg. Area Number of Rooms  \\\n",
            "count       5000.000000          5000.000000                5000.000000   \n",
            "mean       68583.108984             5.977222                   6.987792   \n",
            "std        10657.991214             0.991456                   1.005833   \n",
            "min        17796.631190             2.644304                   3.236194   \n",
            "25%        61480.562388             5.322283                   6.299250   \n",
            "50%        68804.286404             5.970429                   7.002902   \n",
            "75%        75783.338666             6.650808                   7.665871   \n",
            "max       107701.748378             9.519088                  10.759588   \n",
            "\n",
            "       Avg. Area Number of Bedrooms  Area Population         Price  \n",
            "count                   5000.000000      5000.000000  5.000000e+03  \n",
            "mean                       3.981330     36163.516039  1.232073e+06  \n",
            "std                        1.234137      9925.650114  3.531176e+05  \n",
            "min                        2.000000       172.610686  1.593866e+04  \n",
            "25%                        3.140000     29403.928702  9.975771e+05  \n",
            "50%                        4.050000     36199.406689  1.232669e+06  \n",
            "75%                        4.490000     42861.290769  1.471210e+06  \n",
            "max                        6.500000     69621.713378  2.469066e+06  \n"
          ]
        }
      ]
    },
    {
      "cell_type": "code",
      "source": [
        "print(\"\\nMissing Values:\")\n",
        "print(data.isnull().sum())"
      ],
      "metadata": {
        "colab": {
          "base_uri": "https://localhost:8080/"
        },
        "id": "1r44OsaLRA2J",
        "outputId": "385a4e60-d0e8-4fbc-c755-8f5106ce4110"
      },
      "execution_count": 51,
      "outputs": [
        {
          "output_type": "stream",
          "name": "stdout",
          "text": [
            "\n",
            "Missing Values:\n",
            "Avg. Area Income                0\n",
            "Avg. Area House Age             0\n",
            "Avg. Area Number of Rooms       0\n",
            "Avg. Area Number of Bedrooms    0\n",
            "Area Population                 0\n",
            "Price                           0\n",
            "Address                         0\n",
            "dtype: int64\n"
          ]
        }
      ]
    },
    {
      "cell_type": "code",
      "source": [
        "print(\"\\nColumns:\")\n",
        "print(data.columns)"
      ],
      "metadata": {
        "colab": {
          "base_uri": "https://localhost:8080/"
        },
        "id": "Fp6D1qoARD2V",
        "outputId": "d8c754f0-c796-4427-b077-542c8fb6e3bf"
      },
      "execution_count": 52,
      "outputs": [
        {
          "output_type": "stream",
          "name": "stdout",
          "text": [
            "\n",
            "Columns:\n",
            "Index(['Avg. Area Income', 'Avg. Area House Age', 'Avg. Area Number of Rooms',\n",
            "       'Avg. Area Number of Bedrooms', 'Area Population', 'Price', 'Address'],\n",
            "      dtype='object')\n"
          ]
        }
      ]
    },
    {
      "cell_type": "code",
      "source": [
        "print(\"\\nShape:\")\n",
        "print(data.shape)"
      ],
      "metadata": {
        "colab": {
          "base_uri": "https://localhost:8080/"
        },
        "id": "mn8hKa6LRG-Q",
        "outputId": "ea7def70-1c67-4f92-96b2-00c18d34b577"
      },
      "execution_count": 53,
      "outputs": [
        {
          "output_type": "stream",
          "name": "stdout",
          "text": [
            "\n",
            "Shape:\n",
            "(5000, 7)\n"
          ]
        }
      ]
    },
    {
      "cell_type": "code",
      "source": [
        "print(\"\\nDATA TYPES:\")\n",
        "print(data.dtypes)"
      ],
      "metadata": {
        "colab": {
          "base_uri": "https://localhost:8080/"
        },
        "id": "434LvJaKRJbM",
        "outputId": "e388dda8-675e-4f7d-aab1-53a14012ff76"
      },
      "execution_count": 54,
      "outputs": [
        {
          "output_type": "stream",
          "name": "stdout",
          "text": [
            "\n",
            "DATA TYPES:\n",
            "Avg. Area Income                float64\n",
            "Avg. Area House Age             float64\n",
            "Avg. Area Number of Rooms       float64\n",
            "Avg. Area Number of Bedrooms    float64\n",
            "Area Population                 float64\n",
            "Price                           float64\n",
            "Address                          object\n",
            "dtype: object\n"
          ]
        }
      ]
    },
    {
      "cell_type": "code",
      "source": [
        "print(\"\\n Access the 21th row (index 20)\")\n",
        "data.iloc[20]"
      ],
      "metadata": {
        "colab": {
          "base_uri": "https://localhost:8080/"
        },
        "id": "zQzeRHsYRJhf",
        "outputId": "74365437-a963-4ad7-9d5f-3a32ae4142ea"
      },
      "execution_count": 55,
      "outputs": [
        {
          "output_type": "stream",
          "name": "stdout",
          "text": [
            "\n",
            " Access the 21th row (index 20)\n"
          ]
        },
        {
          "output_type": "execute_result",
          "data": {
            "text/plain": [
              "Avg. Area Income                                                     86294.999089\n",
              "Avg. Area House Age                                                      6.627457\n",
              "Avg. Area Number of Rooms                                                8.011898\n",
              "Avg. Area Number of Bedrooms                                                 4.07\n",
              "Area Population                                                      47560.775336\n",
              "Price                                                              2146925.339889\n",
              "Address                         030 Larry Park Suite 665\\nThomashaven, HI 8794...\n",
              "Name: 20, dtype: object"
            ]
          },
          "metadata": {},
          "execution_count": 55
        }
      ]
    },
    {
      "cell_type": "code",
      "source": [
        "unique_counts = data.nunique()\n",
        "print(\"Number of unique values in each column:\")\n",
        "print(unique_counts)"
      ],
      "metadata": {
        "colab": {
          "base_uri": "https://localhost:8080/"
        },
        "id": "Obi2mNg1RQWF",
        "outputId": "21918ecf-3899-412f-b0a9-44914cf04d4c"
      },
      "execution_count": 56,
      "outputs": [
        {
          "output_type": "stream",
          "name": "stdout",
          "text": [
            "Number of unique values in each column:\n",
            "Avg. Area Income                5000\n",
            "Avg. Area House Age             5000\n",
            "Avg. Area Number of Rooms       5000\n",
            "Avg. Area Number of Bedrooms     255\n",
            "Area Population                 5000\n",
            "Price                           5000\n",
            "Address                         5000\n",
            "dtype: int64\n"
          ]
        }
      ]
    },
    {
      "cell_type": "code",
      "source": [
        "nunique_counts = data.nunique()\n",
        "\n",
        "\n",
        "for column in data.columns:\n",
        "    unique_values = data[column].unique()\n",
        "    value_counts = data[column].value_counts()\n",
        "\n",
        "    print(f\"Column: {column}\")\n",
        "    print(f\"Number of unique values: {nunique_counts[column]}\")\n",
        "    print(f\"Unique values: {unique_values}\")\n",
        "    print(f\"Value counts:\\n{value_counts}\\n\")"
      ],
      "metadata": {
        "colab": {
          "base_uri": "https://localhost:8080/"
        },
        "id": "yAEEhvNMRTJ-",
        "outputId": "67c608f0-df67-43c3-8eec-7613c5c52ca0"
      },
      "execution_count": 57,
      "outputs": [
        {
          "output_type": "stream",
          "name": "stdout",
          "text": [
            "Column: Avg. Area Income\n",
            "Number of unique values: 5000\n",
            "Unique values: [79545.45857432 79248.64245483 61287.06717866 ... 63390.6868855\n",
            " 68001.33123509 65510.58180367]\n",
            "Value counts:\n",
            "79545.458574    1\n",
            "68735.436608    1\n",
            "71635.473101    1\n",
            "73211.136245    1\n",
            "86249.993070    1\n",
            "               ..\n",
            "66064.532823    1\n",
            "59390.346824    1\n",
            "64661.930276    1\n",
            "73279.030904    1\n",
            "65510.581804    1\n",
            "Name: Avg. Area Income, Length: 5000, dtype: int64\n",
            "\n",
            "Column: Avg. Area House Age\n",
            "Number of unique values: 5000\n",
            "Unique values: [5.68286132 6.00289981 5.86588984 ... 7.25059061 5.53438842 5.99230531]\n",
            "Value counts:\n",
            "5.682861    1\n",
            "7.721909    1\n",
            "5.866996    1\n",
            "6.501139    1\n",
            "6.155403    1\n",
            "           ..\n",
            "6.659562    1\n",
            "5.664971    1\n",
            "4.656696    1\n",
            "5.902296    1\n",
            "5.992305    1\n",
            "Name: Avg. Area House Age, Length: 5000, dtype: int64\n",
            "\n",
            "Column: Avg. Area Number of Rooms\n",
            "Number of unique values: 5000\n",
            "Unique values: [7.00918814 6.73082102 8.51272743 ... 4.80508098 7.13014386 6.7923361 ]\n",
            "Value counts:\n",
            "7.009188     1\n",
            "7.621975     1\n",
            "6.075987     1\n",
            "10.280022    1\n",
            "7.967184     1\n",
            "            ..\n",
            "6.881398     1\n",
            "6.750872     1\n",
            "5.660253     1\n",
            "8.077578     1\n",
            "6.792336     1\n",
            "Name: Avg. Area Number of Rooms, Length: 5000, dtype: int64\n",
            "\n",
            "Column: Avg. Area Number of Bedrooms\n",
            "Number of unique values: 255\n",
            "Unique values: [4.09 3.09 5.13 3.26 4.23 4.04 3.41 2.42 2.3  6.1  4.1  4.49 3.1  2.27\n",
            " 4.37 4.01 3.12 4.3  5.12 5.49 4.07 2.1  4.31 6.34 4.33 2.03 4.   3.04\n",
            " 3.24 4.42 5.36 6.29 6.   2.07 3.01 2.39 2.5  2.17 6.3  4.43 4.44 6.32\n",
            " 3.18 6.35 3.22 2.13 4.02 6.36 3.32 4.12 6.41 5.08 3.06 2.28 4.2  4.32\n",
            " 5.43 3.13 3.28 3.27 3.08 3.17 3.15 6.25 3.43 4.38 6.16 4.28 4.11 6.24\n",
            " 3.35 4.48 3.2  3.07 3.39 3.38 6.06 3.3  3.46 3.33 4.41 2.38 2.37 3.45\n",
            " 2.02 2.14 2.23 2.44 2.29 4.19 6.04 5.28 5.1  5.45 4.36 2.05 6.39 4.45\n",
            " 4.22 6.44 4.35 3.37 6.2  6.19 2.49 2.04 4.46 5.15 3.21 6.45 3.44 2.18\n",
            " 3.49 6.26 4.14 4.27 5.04 4.06 6.4  3.25 5.33 3.   2.47 3.31 3.14 4.18\n",
            " 5.07 6.11 2.   5.3  4.26 2.31 3.48 3.29 3.11 3.36 2.15 6.18 5.25 4.47\n",
            " 5.21 4.15 6.37 6.49 6.28 2.09 4.29 6.21 2.08 4.24 2.4  5.37 4.21 2.32\n",
            " 3.23 5.02 5.38 2.34 6.08 3.42 4.25 6.15 3.4  5.46 5.48 2.46 2.26 5.2\n",
            " 4.03 3.16 5.11 6.22 2.21 6.09 6.33 6.03 4.05 5.27 5.4  3.02 4.4  3.34\n",
            " 2.48 5.17 5.   3.47 4.5  6.12 5.41 2.19 3.5  4.17 2.36 6.14 4.16 5.26\n",
            " 4.13 4.39 6.5  5.18 3.19 6.47 6.13 5.19 2.2  5.47 5.01 6.43 3.05 2.41\n",
            " 5.39 5.24 2.45 6.31 5.44 2.11 4.08 2.22 2.16 2.33 5.05 4.34 2.06 5.32\n",
            " 6.02 5.34 3.03 5.03 6.27 2.24 6.46 6.23 5.06 2.35 2.01 2.25 2.12 6.01\n",
            " 6.07 6.42 5.35 5.22 5.29 5.16 5.09 5.23 2.43 5.5  6.05 6.38 6.17 6.48\n",
            " 5.14 5.31 5.42]\n",
            "Value counts:\n",
            "4.38    46\n",
            "3.17    41\n",
            "3.40    40\n",
            "3.16    39\n",
            "3.22    38\n",
            "        ..\n",
            "6.31     7\n",
            "6.01     6\n",
            "6.02     6\n",
            "5.42     6\n",
            "6.42     5\n",
            "Name: Avg. Area Number of Bedrooms, Length: 255, dtype: int64\n",
            "\n",
            "Column: Area Population\n",
            "Number of unique values: 5000\n",
            "Unique values: [23086.80050269 40173.07217364 36882.1593997  ... 33266.14548965\n",
            " 42625.62015585 46501.28380314]\n",
            "Value counts:\n",
            "23086.800503    1\n",
            "27640.561286    1\n",
            "43555.460636    1\n",
            "44198.335811    1\n",
            "43154.838627    1\n",
            "               ..\n",
            "44561.333592    1\n",
            "28995.964140    1\n",
            "49457.179373    1\n",
            "13981.435486    1\n",
            "46501.283803    1\n",
            "Name: Area Population, Length: 5000, dtype: int64\n",
            "\n",
            "Column: Price\n",
            "Number of unique values: 5000\n",
            "Unique values: [1059033.55787012 1505890.91484695 1058987.98787608 ... 1030729.58315229\n",
            " 1198656.87240769 1298950.48026696]\n",
            "Value counts:\n",
            "1.059034e+06    1\n",
            "1.521141e+06    1\n",
            "1.148372e+06    1\n",
            "2.065710e+06    1\n",
            "1.749820e+06    1\n",
            "               ..\n",
            "1.444701e+06    1\n",
            "7.884278e+05    1\n",
            "8.759045e+05    1\n",
            "9.844212e+05    1\n",
            "1.298950e+06    1\n",
            "Name: Price, Length: 5000, dtype: int64\n",
            "\n",
            "Column: Address\n",
            "Number of unique values: 5000\n",
            "Unique values: ['208 Michael Ferry Apt. 674\\nLaurabury, NE 37010-5101'\n",
            " '188 Johnson Views Suite 079\\nLake Kathleen, CA 48958'\n",
            " '9127 Elizabeth Stravenue\\nDanieltown, WI 06482-3489' ...\n",
            " '4215 Tracy Garden Suite 076\\nJoshualand, VA 01707-9165'\n",
            " 'USS Wallace\\nFPO AE 73316'\n",
            " '37778 George Ridges Apt. 509\\nEast Holly, NV 29290-3595']\n",
            "Value counts:\n",
            "208 Michael Ferry Apt. 674\\nLaurabury, NE 37010-5101             1\n",
            "314 Christopher Square Apt. 404\\nLake Ronaldville, SD 42025      1\n",
            "21042 Wilson Islands Suite 238\\nFischerchester, MP 42425-4129    1\n",
            "Unit 8831 Box 5748\\nDPO AE 73012-7314                            1\n",
            "481 Kaitlin Mission Apt. 309\\nJodystad, IA 16947                 1\n",
            "                                                                ..\n",
            "054 Carter Crescent Suite 674\\nGlennport, WA 11140               1\n",
            "8460 Kathleen Mission Apt. 482\\nPort Amytown, KY 72016           1\n",
            "3737 Hartman Rue\\nReneestad, ID 69250-7718                       1\n",
            "3465 Latoya Well\\nNelsonmouth, MI 55741-4287                     1\n",
            "37778 George Ridges Apt. 509\\nEast Holly, NV 29290-3595          1\n",
            "Name: Address, Length: 5000, dtype: int64\n",
            "\n"
          ]
        }
      ]
    },
    {
      "cell_type": "markdown",
      "source": [
        "**LOGISTIC REGRESSION MODEL**"
      ],
      "metadata": {
        "id": "v6iiYahJRYX_"
      }
    },
    {
      "cell_type": "code",
      "source": [
        "data['price_category'] = pd.cut(data['Price'], bins=[0, 200000, 400000, float('inf')], labels=['low', 'medium', 'high'])\n",
        "\n",
        "# Droping non-numeric columns and the target variable\n",
        "X = data.drop(['Price', 'price_category', 'Address'], axis=1)  # Drop 'address' or other non-numeric columns\n",
        "y = data['price_category']\n",
        "\n",
        "# One-hot encode categorical variables\n",
        "X = pd.get_dummies(X)\n",
        "\n",
        "# Splitting the dataset into training and testing sets\n",
        "X_train, X_test, y_train, y_test = train_test_split(X, y, test_size=0.2, random_state=42)\n",
        "\n",
        "# Standardize features\n",
        "scaler = StandardScaler()\n",
        "X_train = scaler.fit_transform(X_train)\n",
        "X_test = scaler.transform(X_test)\n",
        "\n",
        "# Creating a logistic regression model\n",
        "model = LogisticRegression(max_iter=1000, multi_class='auto', solver='lbfgs')\n",
        "\n",
        "# Training the model\n",
        "model.fit(X_train, y_train)\n",
        "\n",
        "# Making predictions on the test set\n",
        "predictions = model.predict(X_test)"
      ],
      "metadata": {
        "id": "V8aoAB_KSSYT"
      },
      "execution_count": 58,
      "outputs": []
    },
    {
      "cell_type": "code",
      "source": [
        "print(\"Predictions:\")\n",
        "print(predictions)"
      ],
      "metadata": {
        "colab": {
          "base_uri": "https://localhost:8080/"
        },
        "id": "DRVHl9IqVJi8",
        "outputId": "da8c0bce-1841-4a1c-d007-0634febb7356"
      },
      "execution_count": 59,
      "outputs": [
        {
          "output_type": "stream",
          "name": "stdout",
          "text": [
            "Predictions:\n",
            "['high' 'high' 'high' 'high' 'high' 'high' 'high' 'high' 'high' 'high'\n",
            " 'high' 'high' 'high' 'high' 'high' 'high' 'high' 'high' 'high' 'high'\n",
            " 'high' 'high' 'high' 'high' 'high' 'high' 'high' 'high' 'high' 'high'\n",
            " 'high' 'high' 'high' 'high' 'high' 'high' 'high' 'high' 'high' 'high'\n",
            " 'high' 'high' 'high' 'high' 'high' 'high' 'high' 'high' 'high' 'high'\n",
            " 'high' 'high' 'high' 'high' 'high' 'high' 'high' 'high' 'high' 'high'\n",
            " 'high' 'high' 'high' 'high' 'high' 'high' 'high' 'high' 'high' 'high'\n",
            " 'high' 'high' 'high' 'high' 'high' 'high' 'high' 'high' 'high' 'high'\n",
            " 'high' 'high' 'high' 'high' 'high' 'high' 'high' 'high' 'high' 'high'\n",
            " 'high' 'high' 'high' 'high' 'high' 'high' 'high' 'high' 'high' 'high'\n",
            " 'high' 'high' 'high' 'high' 'high' 'high' 'high' 'high' 'high' 'high'\n",
            " 'high' 'high' 'high' 'high' 'high' 'high' 'high' 'high' 'high' 'high'\n",
            " 'high' 'high' 'high' 'high' 'high' 'high' 'high' 'high' 'high' 'high'\n",
            " 'high' 'high' 'high' 'high' 'high' 'high' 'high' 'high' 'high' 'high'\n",
            " 'high' 'high' 'high' 'high' 'high' 'high' 'high' 'high' 'high' 'high'\n",
            " 'high' 'high' 'high' 'high' 'high' 'high' 'high' 'high' 'high' 'high'\n",
            " 'high' 'high' 'high' 'high' 'high' 'high' 'high' 'high' 'high' 'high'\n",
            " 'high' 'high' 'high' 'high' 'high' 'high' 'high' 'high' 'high' 'high'\n",
            " 'high' 'high' 'high' 'high' 'high' 'high' 'high' 'high' 'high' 'high'\n",
            " 'high' 'high' 'high' 'high' 'high' 'high' 'high' 'high' 'high' 'high'\n",
            " 'high' 'high' 'high' 'high' 'high' 'high' 'high' 'high' 'high' 'high'\n",
            " 'high' 'high' 'high' 'high' 'high' 'high' 'high' 'high' 'high' 'high'\n",
            " 'high' 'high' 'high' 'high' 'high' 'high' 'high' 'high' 'high' 'high'\n",
            " 'high' 'high' 'high' 'high' 'high' 'high' 'high' 'high' 'high' 'high'\n",
            " 'high' 'high' 'high' 'high' 'high' 'high' 'high' 'high' 'high' 'high'\n",
            " 'high' 'high' 'high' 'high' 'high' 'high' 'high' 'high' 'high' 'high'\n",
            " 'high' 'high' 'high' 'high' 'high' 'high' 'high' 'high' 'high' 'high'\n",
            " 'high' 'high' 'high' 'high' 'high' 'high' 'high' 'high' 'high' 'high'\n",
            " 'high' 'high' 'high' 'high' 'high' 'high' 'high' 'high' 'high' 'high'\n",
            " 'high' 'high' 'high' 'high' 'high' 'high' 'high' 'high' 'high' 'high'\n",
            " 'high' 'high' 'high' 'high' 'high' 'high' 'high' 'high' 'high' 'high'\n",
            " 'high' 'high' 'high' 'high' 'high' 'high' 'high' 'high' 'high' 'high'\n",
            " 'high' 'high' 'high' 'high' 'high' 'high' 'high' 'high' 'high' 'high'\n",
            " 'high' 'high' 'high' 'high' 'high' 'high' 'high' 'high' 'high' 'high'\n",
            " 'high' 'high' 'high' 'high' 'high' 'high' 'high' 'high' 'high' 'high'\n",
            " 'high' 'high' 'high' 'high' 'high' 'high' 'high' 'high' 'high' 'high'\n",
            " 'high' 'high' 'high' 'high' 'high' 'high' 'high' 'high' 'high' 'high'\n",
            " 'high' 'high' 'high' 'high' 'high' 'high' 'high' 'high' 'high' 'high'\n",
            " 'high' 'high' 'high' 'high' 'high' 'high' 'high' 'high' 'high' 'high'\n",
            " 'high' 'high' 'high' 'high' 'high' 'high' 'high' 'high' 'high' 'high'\n",
            " 'high' 'high' 'high' 'high' 'high' 'high' 'high' 'high' 'high' 'high'\n",
            " 'high' 'high' 'high' 'high' 'high' 'high' 'high' 'high' 'high' 'high'\n",
            " 'high' 'high' 'high' 'high' 'high' 'high' 'high' 'high' 'high' 'high'\n",
            " 'high' 'high' 'high' 'high' 'high' 'high' 'high' 'high' 'high' 'high'\n",
            " 'high' 'high' 'high' 'high' 'high' 'high' 'high' 'high' 'high' 'high'\n",
            " 'high' 'high' 'high' 'high' 'high' 'high' 'high' 'high' 'high' 'high'\n",
            " 'high' 'high' 'high' 'high' 'high' 'high' 'high' 'high' 'high' 'high'\n",
            " 'high' 'high' 'high' 'high' 'high' 'high' 'high' 'high' 'high' 'high'\n",
            " 'high' 'high' 'high' 'high' 'high' 'high' 'high' 'high' 'high' 'high'\n",
            " 'high' 'high' 'high' 'high' 'high' 'high' 'high' 'high' 'high' 'high'\n",
            " 'high' 'high' 'high' 'high' 'high' 'high' 'high' 'high' 'high' 'high'\n",
            " 'high' 'high' 'high' 'high' 'high' 'high' 'high' 'high' 'high' 'high'\n",
            " 'high' 'high' 'high' 'high' 'high' 'high' 'high' 'high' 'high' 'high'\n",
            " 'high' 'high' 'high' 'high' 'high' 'high' 'high' 'high' 'high' 'high'\n",
            " 'high' 'high' 'high' 'high' 'high' 'high' 'high' 'high' 'high' 'high'\n",
            " 'high' 'high' 'high' 'high' 'high' 'high' 'high' 'high' 'high' 'high'\n",
            " 'high' 'high' 'high' 'high' 'high' 'high' 'high' 'high' 'high' 'high'\n",
            " 'high' 'high' 'high' 'high' 'high' 'high' 'high' 'high' 'high' 'high'\n",
            " 'high' 'high' 'high' 'high' 'high' 'high' 'high' 'high' 'high' 'high'\n",
            " 'high' 'high' 'high' 'high' 'high' 'high' 'high' 'high' 'high' 'high'\n",
            " 'high' 'high' 'high' 'high' 'high' 'high' 'high' 'high' 'high' 'high'\n",
            " 'high' 'high' 'high' 'high' 'high' 'high' 'high' 'high' 'high' 'high'\n",
            " 'high' 'high' 'high' 'high' 'high' 'high' 'high' 'high' 'high' 'high'\n",
            " 'high' 'high' 'high' 'high' 'high' 'high' 'high' 'high' 'high' 'high'\n",
            " 'high' 'high' 'high' 'high' 'high' 'high' 'high' 'high' 'high' 'high'\n",
            " 'high' 'high' 'high' 'high' 'high' 'high' 'high' 'high' 'high' 'high'\n",
            " 'high' 'high' 'high' 'high' 'high' 'high' 'high' 'high' 'high' 'high'\n",
            " 'high' 'high' 'high' 'high' 'high' 'high' 'high' 'high' 'high' 'high'\n",
            " 'high' 'high' 'high' 'high' 'high' 'high' 'high' 'high' 'high' 'high'\n",
            " 'high' 'high' 'high' 'high' 'high' 'high' 'high' 'high' 'high' 'high'\n",
            " 'medium' 'high' 'high' 'high' 'high' 'high' 'high' 'high' 'high' 'high'\n",
            " 'high' 'high' 'high' 'high' 'high' 'high' 'high' 'high' 'high' 'high'\n",
            " 'high' 'high' 'high' 'high' 'high' 'high' 'high' 'high' 'high' 'high'\n",
            " 'high' 'high' 'high' 'high' 'high' 'high' 'high' 'high' 'high' 'high'\n",
            " 'high' 'high' 'high' 'high' 'high' 'high' 'high' 'high' 'high' 'high'\n",
            " 'high' 'high' 'high' 'high' 'medium' 'high' 'high' 'high' 'high' 'high'\n",
            " 'high' 'high' 'high' 'high' 'high' 'high' 'high' 'high' 'high' 'high'\n",
            " 'high' 'high' 'high' 'high' 'high' 'high' 'high' 'high' 'high' 'high'\n",
            " 'high' 'high' 'high' 'high' 'high' 'high' 'high' 'high' 'high' 'high'\n",
            " 'high' 'high' 'high' 'high' 'high' 'high' 'high' 'high' 'high' 'high'\n",
            " 'high' 'high' 'high' 'high' 'high' 'high' 'high' 'high' 'high' 'high'\n",
            " 'high' 'high' 'high' 'medium' 'high' 'high' 'high' 'high' 'high' 'high'\n",
            " 'high' 'high' 'high' 'high' 'high' 'high' 'high' 'high' 'high' 'high'\n",
            " 'high' 'high' 'high' 'high' 'high' 'high' 'high' 'high' 'high' 'high'\n",
            " 'high' 'high' 'high' 'high' 'high' 'high' 'high' 'high' 'high' 'high'\n",
            " 'high' 'high' 'high' 'high' 'high' 'high' 'high' 'high' 'high' 'high'\n",
            " 'high' 'high' 'high' 'high' 'high' 'high' 'high' 'high' 'high' 'high'\n",
            " 'high' 'high' 'high' 'high' 'high' 'high' 'high' 'high' 'high' 'high'\n",
            " 'high' 'high' 'high' 'high' 'high' 'high' 'high' 'high' 'high' 'high'\n",
            " 'high' 'high' 'high' 'high' 'high' 'high' 'high' 'high' 'high' 'high'\n",
            " 'high' 'high' 'high' 'high' 'high' 'high' 'high' 'high' 'high' 'high'\n",
            " 'high' 'high' 'high' 'high' 'high' 'high' 'high' 'high' 'high' 'high'\n",
            " 'high' 'high' 'high' 'high' 'high' 'high' 'high' 'high' 'high' 'high'\n",
            " 'high' 'high' 'high' 'high' 'high' 'high' 'high' 'high' 'high' 'high'\n",
            " 'high' 'high' 'high' 'high' 'high' 'high' 'high' 'high' 'high' 'high'\n",
            " 'high' 'high' 'high' 'high' 'high' 'high' 'high' 'high' 'high' 'high'\n",
            " 'high' 'high' 'high' 'high' 'high' 'high' 'high' 'high' 'high' 'high'\n",
            " 'high' 'high' 'high' 'high' 'high' 'high' 'high' 'high' 'high' 'high'\n",
            " 'high' 'high' 'high' 'high' 'high' 'high' 'high' 'high' 'high' 'high'\n",
            " 'high' 'high' 'high' 'high' 'high' 'high' 'high' 'high' 'high' 'high']\n"
          ]
        }
      ]
    },
    {
      "cell_type": "markdown",
      "source": [
        "**EVALUATING THE PERFORMANCE**"
      ],
      "metadata": {
        "id": "gvcR-_tNV7Lc"
      }
    },
    {
      "cell_type": "code",
      "source": [
        "accuracy = accuracy_score(y_test, predictions)\n",
        "print(f'Accuracy: {accuracy}')"
      ],
      "metadata": {
        "colab": {
          "base_uri": "https://localhost:8080/"
        },
        "id": "7y0N7iXOSaTj",
        "outputId": "71af2a37-af8f-487d-c6b2-1bfaa2284208"
      },
      "execution_count": 60,
      "outputs": [
        {
          "output_type": "stream",
          "name": "stdout",
          "text": [
            "Accuracy: 0.995\n"
          ]
        }
      ]
    },
    {
      "cell_type": "code",
      "source": [
        "print(classification_report(y_test, predictions))"
      ],
      "metadata": {
        "colab": {
          "base_uri": "https://localhost:8080/"
        },
        "id": "cBIt0BrISmYF",
        "outputId": "2566dcef-c6e1-4b22-ef4d-e0d61d3ec17d"
      },
      "execution_count": 61,
      "outputs": [
        {
          "output_type": "stream",
          "name": "stdout",
          "text": [
            "              precision    recall  f1-score   support\n",
            "\n",
            "        high       0.99      1.00      1.00       992\n",
            "      medium       1.00      0.38      0.55         8\n",
            "\n",
            "    accuracy                           0.99      1000\n",
            "   macro avg       1.00      0.69      0.77      1000\n",
            "weighted avg       1.00      0.99      0.99      1000\n",
            "\n"
          ]
        }
      ]
    },
    {
      "cell_type": "code",
      "source": [
        "conf_matrix = confusion_matrix(y_test, predictions)\n",
        "plt.figure(figsize=(8, 6))\n",
        "sns.heatmap(conf_matrix, annot=True, fmt=\"d\", cmap=\"Blues\", cbar=False,\n",
        "            xticklabels=model.classes_, yticklabels=model.classes_)\n",
        "plt.xlabel('Predicted Label')\n",
        "plt.ylabel('True Label')\n",
        "plt.title('Confusion Matrix')\n",
        "plt.show()"
      ],
      "metadata": {
        "colab": {
          "base_uri": "https://localhost:8080/",
          "height": 564
        },
        "id": "H1BPk1UpSrqX",
        "outputId": "078fab66-c988-4715-d353-734c03e91b4b"
      },
      "execution_count": 62,
      "outputs": [
        {
          "output_type": "display_data",
          "data": {
            "text/plain": [
              "<Figure size 800x600 with 1 Axes>"
            ],
            "image/png": "[encoded data removed]"
          },
          "metadata": {}
        }
      ]
    },
    {
      "cell_type": "markdown",
      "source": [
        "**FEATURE IMPORTANCE**"
      ],
      "metadata": {
        "id": "yKrLFmHzTG7U"
      }
    },
    {
      "cell_type": "code",
      "source": [
        "feature_importances = model.coef_[0]\n",
        "feature_importance_df = pd.DataFrame({'Feature': X.columns, 'Importance': feature_importances})\n",
        "\n",
        "feature_importance_df = feature_importance_df.sort_values(by='Importance', ascending=False)\n",
        "\n",
        "plt.figure(figsize=(10, 6))\n",
        "sns.barplot(x='Importance', y='Feature', data=feature_importance_df)\n",
        "plt.xlabel('Importance')\n",
        "plt.ylabel('Feature')\n",
        "plt.title('Feature Importances')\n",
        "plt.show()"
      ],
      "metadata": {
        "colab": {
          "base_uri": "https://localhost:8080/",
          "height": 564
        },
        "id": "Um1DNHn-TKKo",
        "outputId": "1961d43a-6c79-4da3-89e8-b54a32a2117f"
      },
      "execution_count": 63,
      "outputs": [
        {
          "output_type": "display_data",
          "data": {
            "text/plain": [
              "<Figure size 1000x600 with 1 Axes>"
            ],
            "image/png": "[encoded data removed]"
          },
          "metadata": {}
        }
      ]
    },
    {
      "cell_type": "markdown",
      "source": [
        "**LINEAR REGRESSION MODEL**"
      ],
      "metadata": {
        "id": "X2qLstjATUVM"
      }
    },
    {
      "cell_type": "code",
      "source": [
        "X = data.drop('Price', axis=1)\n",
        "y = data['Price']\n",
        "\n",
        "X = pd.get_dummies(X)\n",
        "X_train, X_test, y_train, y_test = train_test_split(X, y, test_size=0.2, random_state=42)\n",
        "\n",
        "scaler = StandardScaler()\n",
        "X_train = scaler.fit_transform(X_train)\n",
        "X_test = scaler.transform(X_test)\n",
        "\n",
        "model = LinearRegression()\n",
        "\n",
        "model.fit(X_train, y_train)\n",
        "\n",
        "predictions = model.predict(X_test)"
      ],
      "metadata": {
        "id": "7J1le-ctTW8f"
      },
      "execution_count": 64,
      "outputs": []
    },
    {
      "cell_type": "code",
      "source": [
        "print(\"Predictions:\")\n",
        "print(predictions)"
      ],
      "metadata": {
        "colab": {
          "base_uri": "https://localhost:8080/"
        },
        "id": "bmkqfuhMWOdP",
        "outputId": "32994342-f20f-4ea3-a66d-8d2e5e48a332"
      },
      "execution_count": 67,
      "outputs": [
        {
          "output_type": "stream",
          "name": "stdout",
          "text": [
            "Predictions:\n",
            "[1313227.5573705  1300917.11372168 1215461.55585555 1235529.96036317\n",
            " 1111423.84088464 1320600.32131036 1254772.33669802 1107784.22706081\n",
            " 1135962.31690412 1287015.57391445 1024248.78962933 1410040.35815798\n",
            " 1235617.20413546 1496975.73994382 1283945.53732665 1239646.15808012\n",
            " 1379444.38615137 1168076.97677608 1069574.85741332 1090209.24517592\n",
            " 1200341.2908597  1141969.41877436 1311969.56224839 1259838.02537122\n",
            " 1358047.70311869 1235915.64637012 1267358.39174733 1145616.42047464\n",
            " 1052000.39806258 1461319.74923469 1214079.77425766 1346436.4784985\n",
            " 1378379.89442184 1247564.95495889 1303151.91783701 1396171.1332451\n",
            " 1343895.48129234 1168958.89304564 1412955.36752657 1195562.61045968\n",
            " 1272263.920571   1158550.88513384 1357915.80950961 1113817.56555942\n",
            " 1265322.96516159 1253425.32035041 1325543.87092811 1381774.83376387\n",
            " 1411986.12464445 1181825.19916604 1406378.91287821 1306269.77077427\n",
            " 1247590.62007277 1214442.40411129 1384834.80663255 1414601.33127401\n",
            " 1271426.00554758 1260457.03537605 1288462.5311412  1243754.07703416\n",
            " 1143443.64878502 1072597.35092612 1316806.90528956 1206705.44270622\n",
            " 1204109.98472453 1391578.88959862 1289459.3923726  1114983.20618632\n",
            " 1488114.37504063 1396504.95034026 1155822.92753579 1366420.87690534\n",
            " 1254194.17237507 1181940.63655194 1007388.79427503 1363845.83253443\n",
            " 1184318.75193451 1208713.90236859 1277220.69669104  990918.04702883\n",
            " 1311978.00404472 1209659.12610944 1069943.88907437  967604.7898686\n",
            " 1365921.86168034 1017150.29324163 1028751.20269468 1214042.1108156\n",
            " 1363035.3360364  1315534.6103738  1291611.66221521 1326822.81542171\n",
            " 1052369.26291731 1212449.75594792 1195761.33525154 1135893.64552905\n",
            " 1205749.11997868 1075893.55954958 1293669.61620709 1436677.70645426\n",
            " 1070328.08856257 1281740.65006578 1207439.57424457 1424429.14812418\n",
            " 1654057.43480952 1127860.04978412 1250888.34645112 1123918.83005288\n",
            " 1352344.02092529 1387521.51632978 1282024.75920924 1311255.40512733\n",
            " 1475653.87443049 1230515.75195517 1048176.82864412 1319164.9726331\n",
            " 1025841.67708664 1304239.49627247 1277485.57631474 1319813.94375839\n",
            " 1420618.69773848 1411782.35053074 1369217.20169744 1430252.29889282\n",
            " 1428104.53241206 1205814.21360186 1018082.10972852 1136835.10704488\n",
            " 1361261.56745707 1447168.42157565 1194564.43801918 1205069.41967286\n",
            " 1410764.07057364 1265042.37975378 1351894.43007041 1411949.6125475\n",
            " 1420692.00700725 1389355.24574805 1147878.06881614 1344307.00891778\n",
            " 1557209.01916292 1166660.11259099 1487049.56522736 1223770.1364793\n",
            " 1547984.199696   1083358.01196068 1161759.24572262 1165841.9129326\n",
            " 1412550.79881995 1427681.58429445 1168256.48541597 1161144.65607083\n",
            " 1241691.12946943 1420856.90237303 1265421.43975725 1044783.22217205\n",
            " 1452868.04309626 1108227.74110196 1479900.2646877  1384867.78770651\n",
            " 1212806.85586852 1250360.88682858 1223449.41308215 1478608.0533715\n",
            " 1306992.33426915 1106852.1546703  1094107.80528978 1384006.04643288\n",
            " 1205137.84505679 1579085.88926329 1536624.30723314 1181925.1239187\n",
            " 1412681.67685852 1208032.51777812 1398853.47164167 1430588.62635361\n",
            " 1300559.88275085 1026482.39172401 1048156.08619739  953546.74881363\n",
            " 1077204.25681169 1166400.47078186 1148423.6421332  1225684.80831614\n",
            " 1078581.67087206  601146.93412839 1275346.34019373 1251260.01399571\n",
            " 1376341.49922379 1333937.00454175 1366384.18954326 1396569.29248828\n",
            " 1251201.16269045 1201897.95384771 1259397.13044243 1317192.10303331\n",
            " 1269325.50537684 1348122.00400311 1242291.39207417 1167408.8947299\n",
            " 1214640.80146889 1303134.54158841 1130512.59472846 1077500.86885426\n",
            " 1200480.80234537 1315662.18864153 1486061.1034737  1020304.20892366\n",
            " 1136309.3603855  1243598.33882158 1209934.22221733 1214831.06025807\n",
            " 1184677.55751602 1129327.64817832  975764.3124034  1456994.01511995\n",
            " 1279125.08245378 1075180.93095732 1277960.51911562 1211151.43251156\n",
            " 1074336.82208474 1126360.03633506  899678.9039694  1247345.67123612\n",
            " 1361436.33755749 1165981.84500148 1326194.93187762 1254489.81249495\n",
            " 1419035.39175346 1358794.63462585 1226580.73665508 1170214.15396669\n",
            " 1227314.49422889 1170439.98558046 1389583.02941737 1428707.12549582\n",
            " 1353661.90833632 1167718.25236598 1027821.9878633  1421187.2489335\n",
            " 1350200.63981293 1273331.9162193  1201449.38249663 1355055.68450628\n",
            " 1440578.76114801  943680.50849735 1288187.84234539 1299248.99882188\n",
            " 1256060.87445478  635318.68139892 1226938.1072876  1432886.52047414\n",
            " 1313739.30343343 1298017.63531105 1533525.47753202 1129450.60239158\n",
            " 1498771.89921349 1105557.09682505 1484576.85795685 1354957.45425334\n",
            " 1264647.98592495 1037864.21264921 1477292.58163056  944308.90971647\n",
            " 1544645.64501058 1087623.48534842 1408587.26816497 1263228.21972925\n",
            " 1119498.22669567 1240922.26794757 1412165.72667255 1161570.48842397\n",
            " 1132552.37199046 1264021.26689314 1202476.93621756 1136209.30964942\n",
            " 1318169.61127605 1165512.51406452  936806.3373499  1271036.47641816\n",
            " 1048620.36147458 1373872.48835789 1215766.75312524 1237655.98580727\n",
            " 1362082.27093551 1385812.74145958 1211235.54101316 1089632.12247983\n",
            " 1064388.45879513 1211572.99304288 1337172.95839121 1359300.57394068\n",
            " 1304788.37464789 1151954.07680551 1617119.89857001 1372109.22587365\n",
            " 1275260.40511381 1116012.94719861  964637.82317401 1444935.06121846\n",
            " 1301877.69908799 1266842.7030034  1117980.88722017 1178933.88472841\n",
            " 1396920.03613583 1312844.02907228 1372535.17152975 1270343.68005495\n",
            " 1400068.5002327  1191236.57050173 1187234.36750897 1341216.20544755\n",
            " 1334566.92036405 1258306.13421234 1429448.93297352 1304217.5803892\n",
            " 1245865.96982891 1420320.12046098 1243462.62619191 1014663.6772692\n",
            " 1356842.27558738 1199865.29985231 1318820.21069978 1179403.15293826\n",
            " 1265463.39666356 1045771.33861479 1130345.18571261 1245148.08027536\n",
            " 1315250.90795596 1110484.64473676 1196339.10195793 1128402.39131617\n",
            " 1062209.09468242  947230.41570267 1204150.88502983 1182665.31260445\n",
            " 1162009.5144399  1202182.98798104 1117589.21928716 1209348.1452245\n",
            " 1329238.89633556 1445188.11704702 1343566.4390549  1304372.63486607\n",
            " 1311548.6189286  1222042.6511238  1195235.05237663 1413855.4308051\n",
            " 1309147.09140913 1280625.27033945 1261317.46595647 1307172.85766388\n",
            " 1419642.94584475 1400442.73341809 1148937.67229894 1281223.71822493\n",
            " 1341940.87986343 1289112.41345546 1190094.24833021 1369119.07238348\n",
            " 1284599.95179801  545224.30800248 1243974.01508475 1413573.18588322\n",
            " 1224747.52228401 1121233.50157213 1136945.31213047 1258637.85461477\n",
            " 1301232.65282655 1027981.88817974 1334153.92634013 1521355.7091495\n",
            " 1088279.90741988 1286527.87679939 1234100.49577401 1288049.8187273\n",
            " 1196350.66693172 1138509.99718307 1221299.38909707 1154236.28227881\n",
            " 1107826.84746949  535232.48751794 1166169.65340316 1348127.49703064\n",
            " 1192979.59105995 1365504.30047037 1247883.11399931 1074419.89529364\n",
            " 1156311.93113653 1354798.751415    578073.60822285 1328432.67648668\n",
            " 1176749.37840473 1228249.27881205 1144378.71732157 1120938.43717674\n",
            " 1049422.21560031 1082321.58241134 1114616.37366599 1409199.15810535\n",
            "  900085.61740174 1214844.52954063 1106336.23853638 1222935.38499903\n",
            " 1434369.19960676 1215849.20187793 1099283.7246129  1157747.39232087\n",
            " 1257854.50410543 1434996.73327059 1237418.66618859  959191.62834801\n",
            " 1270584.6786307  1139537.44374175 1297149.55014987 1148290.31577544\n",
            " 1223069.04358998 1205970.82323906 1364778.90468677 1113004.15107533\n",
            " 1277876.90856276 1294450.96426641 1110728.37201431 1209495.25205046\n",
            " 1439532.77814492 1310995.7139048  1376356.25155291 1138657.3912555\n",
            " 1274212.55282876 1155337.10486018 1103479.85998403 1229705.31045504\n",
            " 1131021.67467587 1173329.57934312 1320371.45538527 1173545.17580717\n",
            " 1127689.70618668 1247683.31235575 1083392.92890558 1214111.94023226\n",
            " 1164522.72119546 1386738.56557384 1186930.7479051  1228857.43013735\n",
            " 1290889.69323428 1514075.45860619 1342794.13059682 1198311.35865428\n",
            " 1130325.78782884 1319390.03473284 1212423.68137542 1280834.32935615\n",
            " 1391635.11671596 1079701.07982167 1394562.7823244  1080116.34246805\n",
            "  967837.95212361 1301092.78156394 1242407.80262257 1169578.01153759\n",
            " 1544189.83397051 1213918.91234493 1294461.93648395 1508744.03749816\n",
            " 1203047.38841048 1274016.4647834  1338198.4650361  1114424.20182515\n",
            " 1101269.50223611 1063625.36956353 1339846.26315359 1298411.19275162\n",
            " 1250564.60592017 1404313.01951856 1504585.39527732 1502211.62795349\n",
            " 1205653.22578673 1005931.93874094 1105323.68480748 1025827.89934076\n",
            " 1059323.47042994 1266735.2062034  1184236.48350272 1431373.83745544\n",
            " 1192043.48249193 1132393.31113267 1418973.51816131 1263569.6045592\n",
            " 1236425.18223818 1245331.82134564 1343705.98801161 1193090.86327818\n",
            " 1480833.48781538 1300316.80766822 1205499.89803007 1178810.35727633\n",
            " 1248872.81331494 1047760.43532399 1139495.6625235  1292812.30744605\n",
            " 1340411.77299611 1255602.29787074 1335234.86948943 1271404.29782439\n",
            " 1246600.0913376  1160341.30208669 1365858.84271406 1101224.0995271\n",
            " 1224149.09331096 1140568.99891566 1067684.09753577 1060035.5820283\n",
            " 1080541.64805275 1182400.23437659 1250962.70556834 1352238.67888248\n",
            " 1192246.75057538 1398183.22257648 1225672.73187761 1129893.5838805\n",
            " 1221999.48268605 1282676.6931835  1112609.53418064 1042864.33228116\n",
            " 1213701.53564243 1324894.74049951 1227632.04807258 1203043.02484055\n",
            " 1285408.13195626 1389225.02965185 1307218.02287242 1409707.72379076\n",
            " 1490537.75790251 1120638.13754174 1229486.71825862 1254021.77031676\n",
            " 1213922.28731324 1322153.08611238 1065024.16280804 1224227.80257232\n",
            " 1234692.16344182 1423698.26953741 1659456.25032309 1219591.0149157\n",
            " 1187777.20338481 1335339.92783311 1328256.80205506 1400637.06939934\n",
            " 1088783.18706742 1300554.16067114 1172902.10157176 1095946.22761377\n",
            " 1347826.84367715 1494309.33019147 1172968.36605745 1347001.00272858\n",
            " 1116325.889412   1210374.94109189 1295152.86847908 1292830.82135888\n",
            " 1231297.81847593 1337946.80822703 1333138.75381193 1325202.61137971\n",
            " 1278376.51716802 1301557.96000314 1272158.51540901 1121518.80312488\n",
            " 1204492.38213989 1321660.35253279 1299354.87126824 1432525.25305563\n",
            " 1340333.22944727 1192530.69352782 1169809.01266585 1172156.27272011\n",
            " 1246514.74345621 1278451.83230082 1101956.47741677 1366104.89458102\n",
            " 1237666.35510804 1292416.80192373  981363.50101651 1254116.55188708\n",
            " 1292974.29522914 1300137.40239705 1589980.00098436 1527606.72364499\n",
            "  967000.50484477 1291105.80145103 1251983.72440272 1007174.9197204\n",
            " 1290465.53071041 1365986.9357551   921857.45014499 1204520.33381827\n",
            " 1157482.90206606 1064611.64379058 1400634.13279335 1160202.09014298\n",
            " 1191118.60128953 1154368.00104425 1165808.4594214  1120155.99044375\n",
            " 1360985.64431592 1418474.18327472 1219404.08650462 1385244.89040723\n",
            " 1328641.41026475 1159864.15723959 1142525.48462121 1088299.93471909\n",
            " 1218422.73902534 1254957.14776066 1462183.39343652 1295210.28468441\n",
            " 1206195.85649712 1082612.07957477  934141.00458965 1216977.3679766\n",
            " 1176089.94512122 1504829.52874815 1228478.76982196 1596079.02697013\n",
            " 1340830.15241641 1189575.32256221 1359786.34735027 1330912.84084779\n",
            " 1515982.61977884 1305379.38027571 1398438.47685004 1111590.29069304\n",
            " 1198225.04892056 1254614.12874505 1236933.33907184 1462627.90617939\n",
            " 1188941.47355644  880752.97793358 1248932.17134384 1077815.31351921\n",
            " 1294386.92937429 1115809.35204505 1300338.50068377 1140347.81794961\n",
            " 1172151.1092171  1234970.66599147 1275805.39609658 1459952.08618445\n",
            " 1226507.03313826 1126587.73482711 1242954.98189002 1322261.42493959\n",
            " 1139560.19931098 1361972.35682416 1302936.794519   1110532.4223839\n",
            " 1144824.61297413 1114328.05978082 1392240.38610889 1134038.14007658\n",
            " 1212672.70665781 1000404.91010353 1302224.30223071 1212870.77574592\n",
            " 1358292.56283029 1368985.07340977 1124331.21032101 1017718.45176799\n",
            " 1207617.56506464 1476610.18903919 1089405.71720422 1151461.23567978\n",
            " 1033355.92663123 1243926.06127174 1400261.25749223 1372460.06839541\n",
            " 1344799.94455452 1268488.60612139 1006369.76028961 1321838.92758301\n",
            " 1077771.28497301 1104122.97206962 1444913.54926058 1224710.51836697\n",
            " 1399855.84209938 1342936.34311842 1447565.60794691 1249642.87690736\n",
            " 1282504.49124596 1330454.76542028 1405963.69007576 1371226.17016355\n",
            " 1380595.56950069 1262741.17009839 1249646.14270628 1240099.01686288\n",
            " 1264224.07099415 1408211.21019589 1212518.92219578 1223977.04822095\n",
            "  470046.31760985 1224209.65904032 1202070.01933007 1091955.91551602\n",
            " 1084494.21493953 1182801.2763439  1196731.37818293 1186642.22934194\n",
            " 1267129.86899731 1282186.4471414  1223317.22215167 1010344.97052329\n",
            " 1417329.02981338 1319061.5036324  1603054.54256708 1365251.19716447\n",
            " 1185793.06842559 1500252.43185047 1254167.41570689  981486.93353025\n",
            " 1078003.60016489 1539982.93188317 1024371.66370591 1225627.13774989\n",
            " 1093637.40196485 1051238.5053042  1332087.66076414 1280904.26423283\n",
            " 1189129.2289173  1371324.69816378 1013881.5193435  1344508.13080944\n",
            " 1169687.19269757 1478844.8398057  1312272.09409413 1257146.51383043\n",
            " 1136024.7118378  1256655.54317485 1328768.83627005 1169321.6345015\n",
            " 1311060.93273203 1214250.96571984 1274791.70536355 1188377.09775492\n",
            " 1194302.26860092 1579775.40817295 1274436.79582798 1330196.75185076\n",
            " 1242861.06097083 1295364.08630593 1234456.36310112 1366586.73861515\n",
            " 1279244.96695926 1177983.22249164  500831.34365266  970316.45662889\n",
            " 1200098.56152002 1236509.17614491 1210969.10138051 1240557.06750351\n",
            " 1283612.0253281  1219048.29471686 1152379.67603795 1343337.51457024\n",
            " 1192909.39349451 1298941.59062254 1314246.61687902 1102880.50509658\n",
            " 1282647.63241242 1388162.86924917 1172016.37353533 1252592.89635334\n",
            " 1282139.19530145 1134271.46488775 1440950.73073362 1125463.77518912\n",
            " 1106473.12183614 1185335.18187235 1352332.14371052 1368425.14573586\n",
            " 1337656.79565286 1127536.37355486 1049318.08305519 1008704.21945155\n",
            " 1175346.41241223 1204814.58814475 1257957.14307465 1034893.27647894\n",
            " 1233622.97152752 1170249.4863501  1382943.14625128 1461799.82649014\n",
            " 1256778.89578287 1267926.21283935 1358205.55692055 1281618.7887496\n",
            " 1347058.1627024  1209016.74078044 1269764.17952473 1177726.19566175\n",
            "  980184.26677644 1224864.48843894 1216829.16625236 1560031.56172219\n",
            " 1339293.31147275 1058276.75499847 1277988.32627023 1070363.51813198\n",
            " 1459380.97574504 1446286.13712269 1419138.53809118 1327334.1205367\n",
            " 1287315.09952942  514820.99717827 1329886.97216955 1542219.71454711\n",
            "  882916.88304628 1318242.03885938 1234008.59469536 1290485.07256993\n",
            " 1234112.01852767 1153079.02366493 1094980.92450486  991138.42486377\n",
            " 1127551.23007025 1147533.95466456 1304336.65548335 1359004.80673323\n",
            " 1177818.65200431 1191958.95122721 1438562.94563897 1318381.17322346\n",
            " 1206256.77390792  999462.0692664  1177674.06044829 1333375.37641399\n",
            " 1232942.64364385 1255440.39937    1244525.42854435 1240167.50310294\n",
            " 1391878.70855267 1271450.80863221 1222130.35806919 1287822.27461755\n",
            "  987938.00634045 1361727.59849348 1299000.82862119 1194644.74256598\n",
            " 1286371.23512057 1194863.79806076 1130255.74236708 1283728.44766428\n",
            " 1504060.22524141 1065785.12599358 1161692.48807057 1350090.51855382\n",
            " 1439160.33119767 1041625.37152843 1140724.90516295 1219823.50259423\n",
            " 1164685.91741134 1168454.40829918 1330917.09777272 1437768.13386152\n",
            " 1381138.06913519 1139856.53709512 1454737.3645076  1361480.74546655\n",
            " 1388251.45608789 1166991.13825387 1261551.21831992 1124396.44716011\n",
            " 1390825.83377039 1018869.36404742 1383327.31852947 1369832.3710923\n",
            " 1277237.05670391 1248797.69877827 1192922.95856892 1277259.33029201\n",
            " 1263258.46040493 1437863.0285936  1053592.03825921 1276152.55747617\n",
            " 1374512.3007151  1337400.63061673 1141898.06210031 1225088.98639035\n",
            " 1251965.05562031 1168370.45858897 1364821.82972238 1235889.76573753\n",
            " 1189884.95656517 1167492.98205271 1284213.21178333 1415664.26413372\n",
            " 1423133.96989334 1268572.52948066 1143419.34915336 1270038.76398093\n",
            " 1277744.53272613 1149018.61452921 1335441.68554945 1000927.70112104\n",
            " 1299460.44110259 1226684.74831937 1442894.22537749 1221272.69675971\n",
            " 1388597.4267694  1416073.6550507  1603009.29598323 1298519.84361486\n",
            " 1147548.86603893 1204886.35727322 1340650.44888732 1045332.89925988\n",
            " 1342144.36860382 1203186.78561765 1394335.09355365 1071604.6331028\n",
            " 1372850.61029055 1026392.67557697 1323147.1978066  1227167.1508598\n",
            " 1262226.34375443 1279239.30329857 1202113.04155498 1059847.90934071\n",
            " 1334108.50113958 1321125.39033035 1327267.73052424 1191068.57436234\n",
            " 1113946.13906748 1486339.24652445 1150791.19445426 1357798.57028487\n",
            " 1324136.7766463  1131078.55735976 1414886.81935212 1258489.98497172\n",
            " 1403978.35454137 1234849.59688078  978377.68460719 1088086.33829686\n",
            " 1458440.43182768 1404891.01350447 1067088.18580836 1095260.83571947\n",
            " 1239657.68517603 1191780.23823519 1129676.14751486 1261788.78448115\n",
            " 1275022.60101033 1121484.98655587 1194921.71431095 1458433.37511095\n",
            " 1333635.37222012  993007.67252717 1111545.84903354 1035435.66942358\n",
            " 1290285.87510862 1139822.27041049 1201163.91669125 1197534.4861062\n",
            " 1254510.24201771 1209859.09991095 1331875.11579057 1197396.6710007\n",
            " 1312645.0867992  1257728.79105069 1375969.90994089 1377172.40656245\n",
            " 1265959.87318072 1159075.23834243 1182681.35085896 1161374.83974611\n",
            " 1134887.37676843 1215984.2156046  1182542.91190622 1154419.1417514\n",
            " 1235482.51703045 1511615.78500976  856902.57251058 1451604.08728598\n",
            " 1407944.36086367  959370.7391518  1263013.67197942 1269919.13296226\n",
            " 1122573.81132493 1128368.32691614 1447641.27827952 1319334.23315635\n",
            " 1324786.6927393  1302718.46715799 1142209.13876369 1115710.71817842\n",
            " 1224285.93483767 1500321.71447878 1333921.06818999 1167848.76617148]\n"
          ]
        }
      ]
    },
    {
      "cell_type": "markdown",
      "source": [
        "**EVALUATING THE PERFORMANCE**"
      ],
      "metadata": {
        "id": "uaeBVeNVWCSQ"
      }
    },
    {
      "cell_type": "code",
      "source": [
        "mse = mean_squared_error(y_test, predictions)\n",
        "print(f'Mean Squared Error: {mse}')"
      ],
      "metadata": {
        "colab": {
          "base_uri": "https://localhost:8080/"
        },
        "id": "feYjC8C3UnPm",
        "outputId": "d96de323-8afc-40ae-dfff-e1b696816803"
      },
      "execution_count": 65,
      "outputs": [
        {
          "output_type": "stream",
          "name": "stdout",
          "text": [
            "Mean Squared Error: 53992464172.533264\n"
          ]
        }
      ]
    },
    {
      "cell_type": "markdown",
      "source": [
        "**PREDICTIONS VS ACTUAL VALUES**"
      ],
      "metadata": {
        "id": "S3F9upm1Us7p"
      }
    },
    {
      "cell_type": "code",
      "source": [
        "plt.scatter(y_test, predictions)\n",
        "plt.xlabel('Actual Prices')\n",
        "plt.ylabel('Predicted Prices')\n",
        "plt.title('Actual Prices vs Predicted Prices')\n",
        "plt.show()"
      ],
      "metadata": {
        "colab": {
          "base_uri": "https://localhost:8080/",
          "height": 472
        },
        "id": "dow4ckkkUpq_",
        "outputId": "b1cda2e6-fba7-4895-fc96-55213c9d7e94"
      },
      "execution_count": 66,
      "outputs": [
        {
          "output_type": "display_data",
          "data": {
            "text/plain": [
              "<Figure size 640x480 with 1 Axes>"
            ],
            "image/png": "[encoded data removed]"
          },
          "metadata": {}
        }
      ]
    }
  ]
}