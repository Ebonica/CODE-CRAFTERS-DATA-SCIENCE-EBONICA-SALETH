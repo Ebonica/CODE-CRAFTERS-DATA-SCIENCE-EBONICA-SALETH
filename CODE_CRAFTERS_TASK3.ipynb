{
  "nbformat": 4,
  "nbformat_minor": 0,
  "metadata": {
    "colab": {
      "provenance": [],
      "authorship_tag": "ABX9TyMCZiRsnfr85dQ35Ys+BI5Q",
      "include_colab_link": true
    },
    "kernelspec": {
      "name": "python3",
      "display_name": "Python 3"
    },
    "language_info": {
      "name": "python"
    }
  },
  "cells": [
    {
      "cell_type": "markdown",
      "metadata": {
        "id": "view-in-github",
        "colab_type": "text"
      },
      "source": [
        "<a href=\"https://colab.research.google.com/github/Ebonica/CODE-CRAFTERS-DATA-SCIENCE-EBONICA-SALETH/blob/main/CODE_CRAFTERS_TASK3.ipynb\" target=\"_parent\"><img src=\"https://colab.research.google.com/assets/colab-badge.svg\" alt=\"Open In Colab\"/></a>"
      ]
    },
    {
      "cell_type": "markdown",
      "source": [
        "**CODE CRAFTERS TASK3 DATA SCIENCE AND MACHINE LEARNING**"
      ],
      "metadata": {
        "id": "72IhDZsIXNMe"
      }
    },
    {
      "cell_type": "markdown",
      "source": [
        "**CUSTOMER CHURN PREDICTION MODEL USING DECISION TREES**"
      ],
      "metadata": {
        "id": "lpPDG134XwGK"
      }
    },
    {
      "cell_type": "code",
      "source": [
        "import pandas as pd\n",
        "from sklearn.model_selection import train_test_split\n",
        "from sklearn.tree import DecisionTreeClassifier\n",
        "from sklearn.impute import SimpleImputer\n",
        "from sklearn.metrics import accuracy_score, confusion_matrix, classification_report\n",
        "import matplotlib.pyplot as plt\n",
        "import seaborn as sns"
      ],
      "metadata": {
        "id": "qWl4RK6sX3rZ"
      },
      "execution_count": 1,
      "outputs": []
    },
    {
      "cell_type": "markdown",
      "source": [
        "**LOADING THE GIVEN DATASET**"
      ],
      "metadata": {
        "id": "Y8jfEEbrX6Be"
      }
    },
    {
      "cell_type": "code",
      "source": [
        "from google.colab import files\n",
        "uploaded=files.upload()"
      ],
      "metadata": {
        "colab": {
          "base_uri": "https://localhost:8080/",
          "height": 73
        },
        "id": "8N00WmK3X9VY",
        "outputId": "2f2b0418-0d7c-4804-e439-ccb85109a019"
      },
      "execution_count": 2,
      "outputs": [
        {
          "output_type": "display_data",
          "data": {
            "text/plain": [
              "<IPython.core.display.HTML object>"
            ],
            "text/html": [
              "\n",
              "     <input type=\"file\" id=\"files-a2b6e53c-49ab-4d4f-ab72-c3e55d5e2dff\" name=\"files[]\" multiple disabled\n",
              "        style=\"border:none\" />\n",
              "     <output id=\"result-a2b6e53c-49ab-4d4f-ab72-c3e55d5e2dff\">\n",
              "      Upload widget is only available when the cell has been executed in the\n",
              "      current browser session. Please rerun this cell to enable.\n",
              "      </output>\n",
              "      <script>// Copyright 2017 Google LLC\n",
              "//\n",
              "// Licensed under the Apache License, Version 2.0 (the \"License\");\n",
              "// you may not use this file except in compliance with the License.\n",
              "// You may obtain a copy of the License at\n",
              "//\n",
              "//      http://www.apache.org/licenses/LICENSE-2.0\n",
              "//\n",
              "// Unless required by applicable law or agreed to in writing, software\n",
              "// distributed under the License is distributed on an \"AS IS\" BASIS,\n",
              "// WITHOUT WARRANTIES OR CONDITIONS OF ANY KIND, either express or implied.\n",
              "// See the License for the specific language governing permissions and\n",
              "// limitations under the License.\n",
              "\n",
              "/**\n",
              " * @fileoverview Helpers for google.colab Python module.\n",
              " */\n",
              "(function(scope) {\n",
              "function span(text, styleAttributes = {}) {\n",
              "  const element = document.createElement('span');\n",
              "  element.textContent = text;\n",
              "  for (const key of Object.keys(styleAttributes)) {\n",
              "    element.style[key] = styleAttributes[key];\n",
              "  }\n",
              "  return element;\n",
              "}\n",
              "\n",
              "// Max number of bytes which will be uploaded at a time.\n",
              "const MAX_PAYLOAD_SIZE = 100 * 1024;\n",
              "\n",
              "function _uploadFiles(inputId, outputId) {\n",
              "  const steps = uploadFilesStep(inputId, outputId);\n",
              "  const outputElement = document.getElementById(outputId);\n",
              "  // Cache steps on the outputElement to make it available for the next call\n",
              "  // to uploadFilesContinue from Python.\n",
              "  outputElement.steps = steps;\n",
              "\n",
              "  return _uploadFilesContinue(outputId);\n",
              "}\n",
              "\n",
              "// This is roughly an async generator (not supported in the browser yet),\n",
              "// where there are multiple asynchronous steps and the Python side is going\n",
              "// to poll for completion of each step.\n",
              "// This uses a Promise to block the python side on completion of each step,\n",
              "// then passes the result of the previous step as the input to the next step.\n",
              "function _uploadFilesContinue(outputId) {\n",
              "  const outputElement = document.getElementById(outputId);\n",
              "  const steps = outputElement.steps;\n",
              "\n",
              "  const next = steps.next(outputElement.lastPromiseValue);\n",
              "  return Promise.resolve(next.value.promise).then((value) => {\n",
              "    // Cache the last promise value to make it available to the next\n",
              "    // step of the generator.\n",
              "    outputElement.lastPromiseValue = value;\n",
              "    return next.value.response;\n",
              "  });\n",
              "}\n",
              "\n",
              "/**\n",
              " * Generator function which is called between each async step of the upload\n",
              " * process.\n",
              " * @param {string} inputId Element ID of the input file picker element.\n",
              " * @param {string} outputId Element ID of the output display.\n",
              " * @return {!Iterable<!Object>} Iterable of next steps.\n",
              " */\n",
              "function* uploadFilesStep(inputId, outputId) {\n",
              "  const inputElement = document.getElementById(inputId);\n",
              "  inputElement.disabled = false;\n",
              "\n",
              "  const outputElement = document.getElementById(outputId);\n",
              "  outputElement.innerHTML = '';\n",
              "\n",
              "  const pickedPromise = new Promise((resolve) => {\n",
              "    inputElement.addEventListener('change', (e) => {\n",
              "      resolve(e.target.files);\n",
              "    });\n",
              "  });\n",
              "\n",
              "  const cancel = document.createElement('button');\n",
              "  inputElement.parentElement.appendChild(cancel);\n",
              "  cancel.textContent = 'Cancel upload';\n",
              "  const cancelPromise = new Promise((resolve) => {\n",
              "    cancel.onclick = () => {\n",
              "      resolve(null);\n",
              "    };\n",
              "  });\n",
              "\n",
              "  // Wait for the user to pick the files.\n",
              "  const files = yield {\n",
              "    promise: Promise.race([pickedPromise, cancelPromise]),\n",
              "    response: {\n",
              "      action: 'starting',\n",
              "    }\n",
              "  };\n",
              "\n",
              "  cancel.remove();\n",
              "\n",
              "  // Disable the input element since further picks are not allowed.\n",
              "  inputElement.disabled = true;\n",
              "\n",
              "  if (!files) {\n",
              "    return {\n",
              "      response: {\n",
              "        action: 'complete',\n",
              "      }\n",
              "    };\n",
              "  }\n",
              "\n",
              "  for (const file of files) {\n",
              "    const li = document.createElement('li');\n",
              "    li.append(span(file.name, {fontWeight: 'bold'}));\n",
              "    li.append(span(\n",
              "        `(${file.type || 'n/a'}) - ${file.size} bytes, ` +\n",
              "        `last modified: ${\n",
              "            file.lastModifiedDate ? file.lastModifiedDate.toLocaleDateString() :\n",
              "                                    'n/a'} - `));\n",
              "    const percent = span('0% done');\n",
              "    li.appendChild(percent);\n",
              "\n",
              "    outputElement.appendChild(li);\n",
              "\n",
              "    const fileDataPromise = new Promise((resolve) => {\n",
              "      const reader = new FileReader();\n",
              "      reader.onload = (e) => {\n",
              "        resolve(e.target.result);\n",
              "      };\n",
              "      reader.readAsArrayBuffer(file);\n",
              "    });\n",
              "    // Wait for the data to be ready.\n",
              "    let fileData = yield {\n",
              "      promise: fileDataPromise,\n",
              "      response: {\n",
              "        action: 'continue',\n",
              "      }\n",
              "    };\n",
              "\n",
              "    // Use a chunked sending to avoid message size limits. See b/62115660.\n",
              "    let position = 0;\n",
              "    do {\n",
              "      const length = Math.min(fileData.byteLength - position, MAX_PAYLOAD_SIZE);\n",
              "      const chunk = new Uint8Array(fileData, position, length);\n",
              "      position += length;\n",
              "\n",
              "      const base64 = btoa(String.fromCharCode.apply(null, chunk));\n",
              "      yield {\n",
              "        response: {\n",
              "          action: 'append',\n",
              "          file: file.name,\n",
              "          data: base64,\n",
              "        },\n",
              "      };\n",
              "\n",
              "      let percentDone = fileData.byteLength === 0 ?\n",
              "          100 :\n",
              "          Math.round((position / fileData.byteLength) * 100);\n",
              "      percent.textContent = `${percentDone}% done`;\n",
              "\n",
              "    } while (position < fileData.byteLength);\n",
              "  }\n",
              "\n",
              "  // All done.\n",
              "  yield {\n",
              "    response: {\n",
              "      action: 'complete',\n",
              "    }\n",
              "  };\n",
              "}\n",
              "\n",
              "scope.google = scope.google || {};\n",
              "scope.google.colab = scope.google.colab || {};\n",
              "scope.google.colab._files = {\n",
              "  _uploadFiles,\n",
              "  _uploadFilesContinue,\n",
              "};\n",
              "})(self);\n",
              "</script> "
            ]
          },
          "metadata": {}
        },
        {
          "output_type": "stream",
          "name": "stdout",
          "text": [
            "Saving Churn_Modelling.csv to Churn_Modelling.csv\n"
          ]
        }
      ]
    },
    {
      "cell_type": "markdown",
      "source": [
        "**READING THE GIVEN DATASET**"
      ],
      "metadata": {
        "id": "kHkjpTbVYCjH"
      }
    },
    {
      "cell_type": "code",
      "source": [
        "data=pd.read_csv(\"Churn_Modelling.csv\")"
      ],
      "metadata": {
        "id": "8-uX0ixfYB6D"
      },
      "execution_count": 3,
      "outputs": []
    },
    {
      "cell_type": "code",
      "source": [
        "data"
      ],
      "metadata": {
        "colab": {
          "base_uri": "https://localhost:8080/",
          "height": 424
        },
        "id": "viLGdBFNZPvF",
        "outputId": "470ff6e8-214f-426a-b3cd-b15b8163fa04"
      },
      "execution_count": 4,
      "outputs": [
        {
          "output_type": "execute_result",
          "data": {
            "text/plain": [
              "      RowNumber  CustomerId    Surname  CreditScore Geography  Gender  Age  \\\n",
              "0             1    15634602   Hargrave          619    France  Female   42   \n",
              "1             2    15647311       Hill          608     Spain  Female   41   \n",
              "2             3    15619304       Onio          502    France  Female   42   \n",
              "3             4    15701354       Boni          699    France  Female   39   \n",
              "4             5    15737888   Mitchell          850     Spain  Female   43   \n",
              "...         ...         ...        ...          ...       ...     ...  ...   \n",
              "9995       9996    15606229   Obijiaku          771    France    Male   39   \n",
              "9996       9997    15569892  Johnstone          516    France    Male   35   \n",
              "9997       9998    15584532        Liu          709    France  Female   36   \n",
              "9998       9999    15682355  Sabbatini          772   Germany    Male   42   \n",
              "9999      10000    15628319     Walker          792    France  Female   28   \n",
              "\n",
              "      Tenure    Balance  NumOfProducts  HasCrCard  IsActiveMember  \\\n",
              "0          2       0.00              1          1               1   \n",
              "1          1   83807.86              1          0               1   \n",
              "2          8  159660.80              3          1               0   \n",
              "3          1       0.00              2          0               0   \n",
              "4          2  125510.82              1          1               1   \n",
              "...      ...        ...            ...        ...             ...   \n",
              "9995       5       0.00              2          1               0   \n",
              "9996      10   57369.61              1          1               1   \n",
              "9997       7       0.00              1          0               1   \n",
              "9998       3   75075.31              2          1               0   \n",
              "9999       4  130142.79              1          1               0   \n",
              "\n",
              "      EstimatedSalary  Exited  \n",
              "0           101348.88       1  \n",
              "1           112542.58       0  \n",
              "2           113931.57       1  \n",
              "3            93826.63       0  \n",
              "4            79084.10       0  \n",
              "...               ...     ...  \n",
              "9995         96270.64       0  \n",
              "9996        101699.77       0  \n",
              "9997         42085.58       1  \n",
              "9998         92888.52       1  \n",
              "9999         38190.78       0  \n",
              "\n",
              "[10000 rows x 14 columns]"
            ],
            "text/html": [
              "\n",
              "  <div id=\"df-cd1d86aa-63e7-4aa9-af19-15beee6cf047\" class=\"colab-df-container\">\n",
              "    <div>\n",
              "<style scoped>\n",
              "    .dataframe tbody tr th:only-of-type {\n",
              "        vertical-align: middle;\n",
              "    }\n",
              "\n",
              "    .dataframe tbody tr th {\n",
              "        vertical-align: top;\n",
              "    }\n",
              "\n",
              "    .dataframe thead th {\n",
              "        text-align: right;\n",
              "    }\n",
              "</style>\n",
              "<table border=\"1\" class=\"dataframe\">\n",
              "  <thead>\n",
              "    <tr style=\"text-align: right;\">\n",
              "      <th></th>\n",
              "      <th>RowNumber</th>\n",
              "      <th>CustomerId</th>\n",
              "      <th>Surname</th>\n",
              "      <th>CreditScore</th>\n",
              "      <th>Geography</th>\n",
              "      <th>Gender</th>\n",
              "      <th>Age</th>\n",
              "      <th>Tenure</th>\n",
              "      <th>Balance</th>\n",
              "      <th>NumOfProducts</th>\n",
              "      <th>HasCrCard</th>\n",
              "      <th>IsActiveMember</th>\n",
              "      <th>EstimatedSalary</th>\n",
              "      <th>Exited</th>\n",
              "    </tr>\n",
              "  </thead>\n",
              "  <tbody>\n",
              "    <tr>\n",
              "      <th>0</th>\n",
              "      <td>1</td>\n",
              "      <td>15634602</td>\n",
              "      <td>Hargrave</td>\n",
              "      <td>619</td>\n",
              "      <td>France</td>\n",
              "      <td>Female</td>\n",
              "      <td>42</td>\n",
              "      <td>2</td>\n",
              "      <td>0.00</td>\n",
              "      <td>1</td>\n",
              "      <td>1</td>\n",
              "      <td>1</td>\n",
              "      <td>101348.88</td>\n",
              "      <td>1</td>\n",
              "    </tr>\n",
              "    <tr>\n",
              "      <th>1</th>\n",
              "      <td>2</td>\n",
              "      <td>15647311</td>\n",
              "      <td>Hill</td>\n",
              "      <td>608</td>\n",
              "      <td>Spain</td>\n",
              "      <td>Female</td>\n",
              "      <td>41</td>\n",
              "      <td>1</td>\n",
              "      <td>83807.86</td>\n",
              "      <td>1</td>\n",
              "      <td>0</td>\n",
              "      <td>1</td>\n",
              "      <td>112542.58</td>\n",
              "      <td>0</td>\n",
              "    </tr>\n",
              "    <tr>\n",
              "      <th>2</th>\n",
              "      <td>3</td>\n",
              "      <td>15619304</td>\n",
              "      <td>Onio</td>\n",
              "      <td>502</td>\n",
              "      <td>France</td>\n",
              "      <td>Female</td>\n",
              "      <td>42</td>\n",
              "      <td>8</td>\n",
              "      <td>159660.80</td>\n",
              "      <td>3</td>\n",
              "      <td>1</td>\n",
              "      <td>0</td>\n",
              "      <td>113931.57</td>\n",
              "      <td>1</td>\n",
              "    </tr>\n",
              "    <tr>\n",
              "      <th>3</th>\n",
              "      <td>4</td>\n",
              "      <td>15701354</td>\n",
              "      <td>Boni</td>\n",
              "      <td>699</td>\n",
              "      <td>France</td>\n",
              "      <td>Female</td>\n",
              "      <td>39</td>\n",
              "      <td>1</td>\n",
              "      <td>0.00</td>\n",
              "      <td>2</td>\n",
              "      <td>0</td>\n",
              "      <td>0</td>\n",
              "      <td>93826.63</td>\n",
              "      <td>0</td>\n",
              "    </tr>\n",
              "    <tr>\n",
              "      <th>4</th>\n",
              "      <td>5</td>\n",
              "      <td>15737888</td>\n",
              "      <td>Mitchell</td>\n",
              "      <td>850</td>\n",
              "      <td>Spain</td>\n",
              "      <td>Female</td>\n",
              "      <td>43</td>\n",
              "      <td>2</td>\n",
              "      <td>125510.82</td>\n",
              "      <td>1</td>\n",
              "      <td>1</td>\n",
              "      <td>1</td>\n",
              "      <td>79084.10</td>\n",
              "      <td>0</td>\n",
              "    </tr>\n",
              "    <tr>\n",
              "      <th>...</th>\n",
              "      <td>...</td>\n",
              "      <td>...</td>\n",
              "      <td>...</td>\n",
              "      <td>...</td>\n",
              "      <td>...</td>\n",
              "      <td>...</td>\n",
              "      <td>...</td>\n",
              "      <td>...</td>\n",
              "      <td>...</td>\n",
              "      <td>...</td>\n",
              "      <td>...</td>\n",
              "      <td>...</td>\n",
              "      <td>...</td>\n",
              "      <td>...</td>\n",
              "    </tr>\n",
              "    <tr>\n",
              "      <th>9995</th>\n",
              "      <td>9996</td>\n",
              "      <td>15606229</td>\n",
              "      <td>Obijiaku</td>\n",
              "      <td>771</td>\n",
              "      <td>France</td>\n",
              "      <td>Male</td>\n",
              "      <td>39</td>\n",
              "      <td>5</td>\n",
              "      <td>0.00</td>\n",
              "      <td>2</td>\n",
              "      <td>1</td>\n",
              "      <td>0</td>\n",
              "      <td>96270.64</td>\n",
              "      <td>0</td>\n",
              "    </tr>\n",
              "    <tr>\n",
              "      <th>9996</th>\n",
              "      <td>9997</td>\n",
              "      <td>15569892</td>\n",
              "      <td>Johnstone</td>\n",
              "      <td>516</td>\n",
              "      <td>France</td>\n",
              "      <td>Male</td>\n",
              "      <td>35</td>\n",
              "      <td>10</td>\n",
              "      <td>57369.61</td>\n",
              "      <td>1</td>\n",
              "      <td>1</td>\n",
              "      <td>1</td>\n",
              "      <td>101699.77</td>\n",
              "      <td>0</td>\n",
              "    </tr>\n",
              "    <tr>\n",
              "      <th>9997</th>\n",
              "      <td>9998</td>\n",
              "      <td>15584532</td>\n",
              "      <td>Liu</td>\n",
              "      <td>709</td>\n",
              "      <td>France</td>\n",
              "      <td>Female</td>\n",
              "      <td>36</td>\n",
              "      <td>7</td>\n",
              "      <td>0.00</td>\n",
              "      <td>1</td>\n",
              "      <td>0</td>\n",
              "      <td>1</td>\n",
              "      <td>42085.58</td>\n",
              "      <td>1</td>\n",
              "    </tr>\n",
              "    <tr>\n",
              "      <th>9998</th>\n",
              "      <td>9999</td>\n",
              "      <td>15682355</td>\n",
              "      <td>Sabbatini</td>\n",
              "      <td>772</td>\n",
              "      <td>Germany</td>\n",
              "      <td>Male</td>\n",
              "      <td>42</td>\n",
              "      <td>3</td>\n",
              "      <td>75075.31</td>\n",
              "      <td>2</td>\n",
              "      <td>1</td>\n",
              "      <td>0</td>\n",
              "      <td>92888.52</td>\n",
              "      <td>1</td>\n",
              "    </tr>\n",
              "    <tr>\n",
              "      <th>9999</th>\n",
              "      <td>10000</td>\n",
              "      <td>15628319</td>\n",
              "      <td>Walker</td>\n",
              "      <td>792</td>\n",
              "      <td>France</td>\n",
              "      <td>Female</td>\n",
              "      <td>28</td>\n",
              "      <td>4</td>\n",
              "      <td>130142.79</td>\n",
              "      <td>1</td>\n",
              "      <td>1</td>\n",
              "      <td>0</td>\n",
              "      <td>38190.78</td>\n",
              "      <td>0</td>\n",
              "    </tr>\n",
              "  </tbody>\n",
              "</table>\n",
              "<p>10000 rows × 14 columns</p>\n",
              "</div>\n",
              "    <div class=\"colab-df-buttons\">\n",
              "\n",
              "  <div class=\"colab-df-container\">\n",
              "    <button class=\"colab-df-convert\" onclick=\"convertToInteractive('df-cd1d86aa-63e7-4aa9-af19-15beee6cf047')\"\n",
              "            title=\"Convert this dataframe to an interactive table.\"\n",
              "            style=\"display:none;\">\n",
              "\n",
              "  <svg xmlns=\"http://www.w3.org/2000/svg\" height=\"24px\" viewBox=\"0 -960 960 960\">\n",
              "    <path d=\"M120-120v-720h720v720H120Zm60-500h600v-160H180v160Zm220 220h160v-160H400v160Zm0 220h160v-160H400v160ZM180-400h160v-160H180v160Zm440 0h160v-160H620v160ZM180-180h160v-160H180v160Zm440 0h160v-160H620v160Z\"/>\n",
              "  </svg>\n",
              "    </button>\n",
              "\n",
              "  <style>\n",
              "    .colab-df-container {\n",
              "      display:flex;\n",
              "      gap: 12px;\n",
              "    }\n",
              "\n",
              "    .colab-df-convert {\n",
              "      background-color: #E8F0FE;\n",
              "      border: none;\n",
              "      border-radius: 50%;\n",
              "      cursor: pointer;\n",
              "      display: none;\n",
              "      fill: #1967D2;\n",
              "      height: 32px;\n",
              "      padding: 0 0 0 0;\n",
              "      width: 32px;\n",
              "    }\n",
              "\n",
              "    .colab-df-convert:hover {\n",
              "      background-color: #E2EBFA;\n",
              "      box-shadow: 0px 1px 2px rgba(60, 64, 67, 0.3), 0px 1px 3px 1px rgba(60, 64, 67, 0.15);\n",
              "      fill: #174EA6;\n",
              "    }\n",
              "\n",
              "    .colab-df-buttons div {\n",
              "      margin-bottom: 4px;\n",
              "    }\n",
              "\n",
              "    [theme=dark] .colab-df-convert {\n",
              "      background-color: #3B4455;\n",
              "      fill: #D2E3FC;\n",
              "    }\n",
              "\n",
              "    [theme=dark] .colab-df-convert:hover {\n",
              "      background-color: #434B5C;\n",
              "      box-shadow: 0px 1px 3px 1px rgba(0, 0, 0, 0.15);\n",
              "      filter: drop-shadow(0px 1px 2px rgba(0, 0, 0, 0.3));\n",
              "      fill: #FFFFFF;\n",
              "    }\n",
              "  </style>\n",
              "\n",
              "    <script>\n",
              "      const buttonEl =\n",
              "        document.querySelector('#df-cd1d86aa-63e7-4aa9-af19-15beee6cf047 button.colab-df-convert');\n",
              "      buttonEl.style.display =\n",
              "        google.colab.kernel.accessAllowed ? 'block' : 'none';\n",
              "\n",
              "      async function convertToInteractive(key) {\n",
              "        const element = document.querySelector('#df-cd1d86aa-63e7-4aa9-af19-15beee6cf047');\n",
              "        const dataTable =\n",
              "          await google.colab.kernel.invokeFunction('convertToInteractive',\n",
              "                                                    [key], {});\n",
              "        if (!dataTable) return;\n",
              "\n",
              "        const docLinkHtml = 'Like what you see? Visit the ' +\n",
              "          '<a target=\"_blank\" href=https://colab.research.google.com/notebooks/data_table.ipynb>data table notebook</a>'\n",
              "          + ' to learn more about interactive tables.';\n",
              "        element.innerHTML = '';\n",
              "        dataTable['output_type'] = 'display_data';\n",
              "        await google.colab.output.renderOutput(dataTable, element);\n",
              "        const docLink = document.createElement('div');\n",
              "        docLink.innerHTML = docLinkHtml;\n",
              "        element.appendChild(docLink);\n",
              "      }\n",
              "    </script>\n",
              "  </div>\n",
              "\n",
              "\n",
              "<div id=\"df-75233c28-20c7-4d74-b99c-1605eb4baf7a\">\n",
              "  <button class=\"colab-df-quickchart\" onclick=\"quickchart('df-75233c28-20c7-4d74-b99c-1605eb4baf7a')\"\n",
              "            title=\"Suggest charts\"\n",
              "            style=\"display:none;\">\n",
              "\n",
              "<svg xmlns=\"http://www.w3.org/2000/svg\" height=\"24px\"viewBox=\"0 0 24 24\"\n",
              "     width=\"24px\">\n",
              "    <g>\n",
              "        <path d=\"M19 3H5c-1.1 0-2 .9-2 2v14c0 1.1.9 2 2 2h14c1.1 0 2-.9 2-2V5c0-1.1-.9-2-2-2zM9 17H7v-7h2v7zm4 0h-2V7h2v10zm4 0h-2v-4h2v4z\"/>\n",
              "    </g>\n",
              "</svg>\n",
              "  </button>\n",
              "\n",
              "<style>\n",
              "  .colab-df-quickchart {\n",
              "      --bg-color: #E8F0FE;\n",
              "      --fill-color: #1967D2;\n",
              "      --hover-bg-color: #E2EBFA;\n",
              "      --hover-fill-color: #174EA6;\n",
              "      --disabled-fill-color: #AAA;\n",
              "      --disabled-bg-color: #DDD;\n",
              "  }\n",
              "\n",
              "  [theme=dark] .colab-df-quickchart {\n",
              "      --bg-color: #3B4455;\n",
              "      --fill-color: #D2E3FC;\n",
              "      --hover-bg-color: #434B5C;\n",
              "      --hover-fill-color: #FFFFFF;\n",
              "      --disabled-bg-color: #3B4455;\n",
              "      --disabled-fill-color: #666;\n",
              "  }\n",
              "\n",
              "  .colab-df-quickchart {\n",
              "    background-color: var(--bg-color);\n",
              "    border: none;\n",
              "    border-radius: 50%;\n",
              "    cursor: pointer;\n",
              "    display: none;\n",
              "    fill: var(--fill-color);\n",
              "    height: 32px;\n",
              "    padding: 0;\n",
              "    width: 32px;\n",
              "  }\n",
              "\n",
              "  .colab-df-quickchart:hover {\n",
              "    background-color: var(--hover-bg-color);\n",
              "    box-shadow: 0 1px 2px rgba(60, 64, 67, 0.3), 0 1px 3px 1px rgba(60, 64, 67, 0.15);\n",
              "    fill: var(--button-hover-fill-color);\n",
              "  }\n",
              "\n",
              "  .colab-df-quickchart-complete:disabled,\n",
              "  .colab-df-quickchart-complete:disabled:hover {\n",
              "    background-color: var(--disabled-bg-color);\n",
              "    fill: var(--disabled-fill-color);\n",
              "    box-shadow: none;\n",
              "  }\n",
              "\n",
              "  .colab-df-spinner {\n",
              "    border: 2px solid var(--fill-color);\n",
              "    border-color: transparent;\n",
              "    border-bottom-color: var(--fill-color);\n",
              "    animation:\n",
              "      spin 1s steps(1) infinite;\n",
              "  }\n",
              "\n",
              "  @keyframes spin {\n",
              "    0% {\n",
              "      border-color: transparent;\n",
              "      border-bottom-color: var(--fill-color);\n",
              "      border-left-color: var(--fill-color);\n",
              "    }\n",
              "    20% {\n",
              "      border-color: transparent;\n",
              "      border-left-color: var(--fill-color);\n",
              "      border-top-color: var(--fill-color);\n",
              "    }\n",
              "    30% {\n",
              "      border-color: transparent;\n",
              "      border-left-color: var(--fill-color);\n",
              "      border-top-color: var(--fill-color);\n",
              "      border-right-color: var(--fill-color);\n",
              "    }\n",
              "    40% {\n",
              "      border-color: transparent;\n",
              "      border-right-color: var(--fill-color);\n",
              "      border-top-color: var(--fill-color);\n",
              "    }\n",
              "    60% {\n",
              "      border-color: transparent;\n",
              "      border-right-color: var(--fill-color);\n",
              "    }\n",
              "    80% {\n",
              "      border-color: transparent;\n",
              "      border-right-color: var(--fill-color);\n",
              "      border-bottom-color: var(--fill-color);\n",
              "    }\n",
              "    90% {\n",
              "      border-color: transparent;\n",
              "      border-bottom-color: var(--fill-color);\n",
              "    }\n",
              "  }\n",
              "</style>\n",
              "\n",
              "  <script>\n",
              "    async function quickchart(key) {\n",
              "      const quickchartButtonEl =\n",
              "        document.querySelector('#' + key + ' button');\n",
              "      quickchartButtonEl.disabled = true;  // To prevent multiple clicks.\n",
              "      quickchartButtonEl.classList.add('colab-df-spinner');\n",
              "      try {\n",
              "        const charts = await google.colab.kernel.invokeFunction(\n",
              "            'suggestCharts', [key], {});\n",
              "      } catch (error) {\n",
              "        console.error('Error during call to suggestCharts:', error);\n",
              "      }\n",
              "      quickchartButtonEl.classList.remove('colab-df-spinner');\n",
              "      quickchartButtonEl.classList.add('colab-df-quickchart-complete');\n",
              "    }\n",
              "    (() => {\n",
              "      let quickchartButtonEl =\n",
              "        document.querySelector('#df-75233c28-20c7-4d74-b99c-1605eb4baf7a button');\n",
              "      quickchartButtonEl.style.display =\n",
              "        google.colab.kernel.accessAllowed ? 'block' : 'none';\n",
              "    })();\n",
              "  </script>\n",
              "</div>\n",
              "    </div>\n",
              "  </div>\n"
            ]
          },
          "metadata": {},
          "execution_count": 4
        }
      ]
    },
    {
      "cell_type": "markdown",
      "source": [
        "**DATA EXPLORATION**"
      ],
      "metadata": {
        "id": "n8a8lkeOZTy3"
      }
    },
    {
      "cell_type": "code",
      "source": [
        "print(\"First few rows of the dataset:\")\n",
        "print(data.head())"
      ],
      "metadata": {
        "colab": {
          "base_uri": "https://localhost:8080/"
        },
        "id": "9Reev-rTZXsC",
        "outputId": "610129c2-b44b-42ca-b6b1-38d3255e848e"
      },
      "execution_count": 5,
      "outputs": [
        {
          "output_type": "stream",
          "name": "stdout",
          "text": [
            "First few rows of the dataset:\n",
            "   RowNumber  CustomerId   Surname  CreditScore Geography  Gender  Age  \\\n",
            "0          1    15634602  Hargrave          619    France  Female   42   \n",
            "1          2    15647311      Hill          608     Spain  Female   41   \n",
            "2          3    15619304      Onio          502    France  Female   42   \n",
            "3          4    15701354      Boni          699    France  Female   39   \n",
            "4          5    15737888  Mitchell          850     Spain  Female   43   \n",
            "\n",
            "   Tenure    Balance  NumOfProducts  HasCrCard  IsActiveMember  \\\n",
            "0       2       0.00              1          1               1   \n",
            "1       1   83807.86              1          0               1   \n",
            "2       8  159660.80              3          1               0   \n",
            "3       1       0.00              2          0               0   \n",
            "4       2  125510.82              1          1               1   \n",
            "\n",
            "   EstimatedSalary  Exited  \n",
            "0        101348.88       1  \n",
            "1        112542.58       0  \n",
            "2        113931.57       1  \n",
            "3         93826.63       0  \n",
            "4         79084.10       0  \n"
          ]
        }
      ]
    },
    {
      "cell_type": "code",
      "source": [
        "print(\"Last few rows of the dataset:\")\n",
        "print(data.tail())"
      ],
      "metadata": {
        "colab": {
          "base_uri": "https://localhost:8080/"
        },
        "id": "u8F5eTC2ZXwW",
        "outputId": "dfc61454-8fe7-4184-8af7-a4b617408a61"
      },
      "execution_count": 6,
      "outputs": [
        {
          "output_type": "stream",
          "name": "stdout",
          "text": [
            "Last few rows of the dataset:\n",
            "      RowNumber  CustomerId    Surname  CreditScore Geography  Gender  Age  \\\n",
            "9995       9996    15606229   Obijiaku          771    France    Male   39   \n",
            "9996       9997    15569892  Johnstone          516    France    Male   35   \n",
            "9997       9998    15584532        Liu          709    France  Female   36   \n",
            "9998       9999    15682355  Sabbatini          772   Germany    Male   42   \n",
            "9999      10000    15628319     Walker          792    France  Female   28   \n",
            "\n",
            "      Tenure    Balance  NumOfProducts  HasCrCard  IsActiveMember  \\\n",
            "9995       5       0.00              2          1               0   \n",
            "9996      10   57369.61              1          1               1   \n",
            "9997       7       0.00              1          0               1   \n",
            "9998       3   75075.31              2          1               0   \n",
            "9999       4  130142.79              1          1               0   \n",
            "\n",
            "      EstimatedSalary  Exited  \n",
            "9995         96270.64       0  \n",
            "9996        101699.77       0  \n",
            "9997         42085.58       1  \n",
            "9998         92888.52       1  \n",
            "9999         38190.78       0  \n"
          ]
        }
      ]
    },
    {
      "cell_type": "code",
      "source": [
        "print(\"Dataset Information:\")\n",
        "print(data.info())"
      ],
      "metadata": {
        "colab": {
          "base_uri": "https://localhost:8080/"
        },
        "id": "n0-yVnvvZXzZ",
        "outputId": "f0ac05ee-06b6-4417-e7e0-0f0ee548052c"
      },
      "execution_count": 7,
      "outputs": [
        {
          "output_type": "stream",
          "name": "stdout",
          "text": [
            "Dataset Information:\n",
            "<class 'pandas.core.frame.DataFrame'>\n",
            "RangeIndex: 10000 entries, 0 to 9999\n",
            "Data columns (total 14 columns):\n",
            " #   Column           Non-Null Count  Dtype  \n",
            "---  ------           --------------  -----  \n",
            " 0   RowNumber        10000 non-null  int64  \n",
            " 1   CustomerId       10000 non-null  int64  \n",
            " 2   Surname          10000 non-null  object \n",
            " 3   CreditScore      10000 non-null  int64  \n",
            " 4   Geography        10000 non-null  object \n",
            " 5   Gender           10000 non-null  object \n",
            " 6   Age              10000 non-null  int64  \n",
            " 7   Tenure           10000 non-null  int64  \n",
            " 8   Balance          10000 non-null  float64\n",
            " 9   NumOfProducts    10000 non-null  int64  \n",
            " 10  HasCrCard        10000 non-null  int64  \n",
            " 11  IsActiveMember   10000 non-null  int64  \n",
            " 12  EstimatedSalary  10000 non-null  float64\n",
            " 13  Exited           10000 non-null  int64  \n",
            "dtypes: float64(2), int64(9), object(3)\n",
            "memory usage: 1.1+ MB\n",
            "None\n"
          ]
        }
      ]
    },
    {
      "cell_type": "code",
      "source": [
        "print(\"\\nSummary statistics:\")\n",
        "print(data.describe())"
      ],
      "metadata": {
        "colab": {
          "base_uri": "https://localhost:8080/"
        },
        "id": "hzmmPIyoZg0b",
        "outputId": "15ba2b01-f039-4f12-acd0-099f6dbb6df4"
      },
      "execution_count": 8,
      "outputs": [
        {
          "output_type": "stream",
          "name": "stdout",
          "text": [
            "\n",
            "Summary statistics:\n",
            "         RowNumber    CustomerId   CreditScore           Age        Tenure  \\\n",
            "count  10000.00000  1.000000e+04  10000.000000  10000.000000  10000.000000   \n",
            "mean    5000.50000  1.569094e+07    650.528800     38.921800      5.012800   \n",
            "std     2886.89568  7.193619e+04     96.653299     10.487806      2.892174   \n",
            "min        1.00000  1.556570e+07    350.000000     18.000000      0.000000   \n",
            "25%     2500.75000  1.562853e+07    584.000000     32.000000      3.000000   \n",
            "50%     5000.50000  1.569074e+07    652.000000     37.000000      5.000000   \n",
            "75%     7500.25000  1.575323e+07    718.000000     44.000000      7.000000   \n",
            "max    10000.00000  1.581569e+07    850.000000     92.000000     10.000000   \n",
            "\n",
            "             Balance  NumOfProducts    HasCrCard  IsActiveMember  \\\n",
            "count   10000.000000   10000.000000  10000.00000    10000.000000   \n",
            "mean    76485.889288       1.530200      0.70550        0.515100   \n",
            "std     62397.405202       0.581654      0.45584        0.499797   \n",
            "min         0.000000       1.000000      0.00000        0.000000   \n",
            "25%         0.000000       1.000000      0.00000        0.000000   \n",
            "50%     97198.540000       1.000000      1.00000        1.000000   \n",
            "75%    127644.240000       2.000000      1.00000        1.000000   \n",
            "max    250898.090000       4.000000      1.00000        1.000000   \n",
            "\n",
            "       EstimatedSalary        Exited  \n",
            "count     10000.000000  10000.000000  \n",
            "mean     100090.239881      0.203700  \n",
            "std       57510.492818      0.402769  \n",
            "min          11.580000      0.000000  \n",
            "25%       51002.110000      0.000000  \n",
            "50%      100193.915000      0.000000  \n",
            "75%      149388.247500      0.000000  \n",
            "max      199992.480000      1.000000  \n"
          ]
        }
      ]
    },
    {
      "cell_type": "code",
      "source": [
        "print(\"\\nMissing Values:\")\n",
        "print(data.isnull().sum())"
      ],
      "metadata": {
        "colab": {
          "base_uri": "https://localhost:8080/"
        },
        "id": "95_gzwi1ZljD",
        "outputId": "9e25d734-45cf-4c41-f7fb-a9ac03c6ef3c"
      },
      "execution_count": 9,
      "outputs": [
        {
          "output_type": "stream",
          "name": "stdout",
          "text": [
            "\n",
            "Missing Values:\n",
            "RowNumber          0\n",
            "CustomerId         0\n",
            "Surname            0\n",
            "CreditScore        0\n",
            "Geography          0\n",
            "Gender             0\n",
            "Age                0\n",
            "Tenure             0\n",
            "Balance            0\n",
            "NumOfProducts      0\n",
            "HasCrCard          0\n",
            "IsActiveMember     0\n",
            "EstimatedSalary    0\n",
            "Exited             0\n",
            "dtype: int64\n"
          ]
        }
      ]
    },
    {
      "cell_type": "code",
      "source": [
        "print(\"\\nColumns:\")\n",
        "print(data.columns)"
      ],
      "metadata": {
        "colab": {
          "base_uri": "https://localhost:8080/"
        },
        "id": "4wBHrRPmZogA",
        "outputId": "ba892c39-e7de-4fc8-a40d-70b47f664650"
      },
      "execution_count": 10,
      "outputs": [
        {
          "output_type": "stream",
          "name": "stdout",
          "text": [
            "\n",
            "Columns:\n",
            "Index(['RowNumber', 'CustomerId', 'Surname', 'CreditScore', 'Geography',\n",
            "       'Gender', 'Age', 'Tenure', 'Balance', 'NumOfProducts', 'HasCrCard',\n",
            "       'IsActiveMember', 'EstimatedSalary', 'Exited'],\n",
            "      dtype='object')\n"
          ]
        }
      ]
    },
    {
      "cell_type": "code",
      "source": [
        "print(\"\\nShape:\")\n",
        "print(data.shape)"
      ],
      "metadata": {
        "colab": {
          "base_uri": "https://localhost:8080/"
        },
        "id": "wtbI4KRSZssS",
        "outputId": "d34926d7-50c3-4ce3-be50-a321f0ce651c"
      },
      "execution_count": 11,
      "outputs": [
        {
          "output_type": "stream",
          "name": "stdout",
          "text": [
            "\n",
            "Shape:\n",
            "(10000, 14)\n"
          ]
        }
      ]
    },
    {
      "cell_type": "code",
      "source": [
        "print(\"\\nDATA TYPES:\")\n",
        "print(data.dtypes)"
      ],
      "metadata": {
        "colab": {
          "base_uri": "https://localhost:8080/"
        },
        "id": "4-VHydCjZwAd",
        "outputId": "4e589972-4563-4939-e74f-15e82fe4269c"
      },
      "execution_count": 12,
      "outputs": [
        {
          "output_type": "stream",
          "name": "stdout",
          "text": [
            "\n",
            "DATA TYPES:\n",
            "RowNumber            int64\n",
            "CustomerId           int64\n",
            "Surname             object\n",
            "CreditScore          int64\n",
            "Geography           object\n",
            "Gender              object\n",
            "Age                  int64\n",
            "Tenure               int64\n",
            "Balance            float64\n",
            "NumOfProducts        int64\n",
            "HasCrCard            int64\n",
            "IsActiveMember       int64\n",
            "EstimatedSalary    float64\n",
            "Exited               int64\n",
            "dtype: object\n"
          ]
        }
      ]
    },
    {
      "cell_type": "code",
      "source": [
        "print(\"\\n Access the 21th row (index 20)\")\n",
        "data.iloc[20]"
      ],
      "metadata": {
        "colab": {
          "base_uri": "https://localhost:8080/"
        },
        "id": "kipS5fVzZz7x",
        "outputId": "6f834b0f-25b1-4e4b-9dd1-0fb1a40c42cc"
      },
      "execution_count": 13,
      "outputs": [
        {
          "output_type": "stream",
          "name": "stdout",
          "text": [
            "\n",
            " Access the 21th row (index 20)\n"
          ]
        },
        {
          "output_type": "execute_result",
          "data": {
            "text/plain": [
              "RowNumber                 21\n",
              "CustomerId          15577657\n",
              "Surname             McDonald\n",
              "CreditScore              732\n",
              "Geography             France\n",
              "Gender                  Male\n",
              "Age                       41\n",
              "Tenure                     8\n",
              "Balance                  0.0\n",
              "NumOfProducts              2\n",
              "HasCrCard                  1\n",
              "IsActiveMember             1\n",
              "EstimatedSalary    170886.17\n",
              "Exited                     0\n",
              "Name: 20, dtype: object"
            ]
          },
          "metadata": {},
          "execution_count": 13
        }
      ]
    },
    {
      "cell_type": "code",
      "source": [
        "unique_counts = data.nunique()\n",
        "print(\"Number of unique values in each column:\")\n",
        "print(unique_counts)"
      ],
      "metadata": {
        "colab": {
          "base_uri": "https://localhost:8080/"
        },
        "id": "BFFpLhp7Z3kk",
        "outputId": "8c8429ee-d1a1-4c4c-f6c0-428f517ce317"
      },
      "execution_count": 14,
      "outputs": [
        {
          "output_type": "stream",
          "name": "stdout",
          "text": [
            "Number of unique values in each column:\n",
            "RowNumber          10000\n",
            "CustomerId         10000\n",
            "Surname             2932\n",
            "CreditScore          460\n",
            "Geography              3\n",
            "Gender                 2\n",
            "Age                   70\n",
            "Tenure                11\n",
            "Balance             6382\n",
            "NumOfProducts          4\n",
            "HasCrCard              2\n",
            "IsActiveMember         2\n",
            "EstimatedSalary     9999\n",
            "Exited                 2\n",
            "dtype: int64\n"
          ]
        }
      ]
    },
    {
      "cell_type": "code",
      "source": [
        "nunique_counts = data.nunique()\n",
        "\n",
        "\n",
        "for column in data.columns:\n",
        "    unique_values = data[column].unique()\n",
        "    value_counts = data[column].value_counts()\n",
        "\n",
        "    print(f\"Column: {column}\")\n",
        "    print(f\"Number of unique values: {nunique_counts[column]}\")\n",
        "    print(f\"Unique values: {unique_values}\")\n",
        "    print(f\"Value counts:\\n{value_counts}\\n\")"
      ],
      "metadata": {
        "colab": {
          "base_uri": "https://localhost:8080/"
        },
        "id": "ZeyZA4OgZ6Ih",
        "outputId": "04f51537-9313-4f08-c936-3804fbc1708f"
      },
      "execution_count": 15,
      "outputs": [
        {
          "output_type": "stream",
          "name": "stdout",
          "text": [
            "Column: RowNumber\n",
            "Number of unique values: 10000\n",
            "Unique values: [    1     2     3 ...  9998  9999 10000]\n",
            "Value counts:\n",
            "1        1\n",
            "6671     1\n",
            "6664     1\n",
            "6665     1\n",
            "6666     1\n",
            "        ..\n",
            "3334     1\n",
            "3335     1\n",
            "3336     1\n",
            "3337     1\n",
            "10000    1\n",
            "Name: RowNumber, Length: 10000, dtype: int64\n",
            "\n",
            "Column: CustomerId\n",
            "Number of unique values: 10000\n",
            "Unique values: [15634602 15647311 15619304 ... 15584532 15682355 15628319]\n",
            "Value counts:\n",
            "15634602    1\n",
            "15667932    1\n",
            "15766185    1\n",
            "15667632    1\n",
            "15599024    1\n",
            "           ..\n",
            "15599078    1\n",
            "15702300    1\n",
            "15660735    1\n",
            "15671390    1\n",
            "15628319    1\n",
            "Name: CustomerId, Length: 10000, dtype: int64\n",
            "\n",
            "Column: Surname\n",
            "Number of unique values: 2932\n",
            "Unique values: ['Hargrave' 'Hill' 'Onio' ... 'Kashiwagi' 'Aldridge' 'Burbidge']\n",
            "Value counts:\n",
            "Smith       32\n",
            "Scott       29\n",
            "Martin      29\n",
            "Walker      28\n",
            "Brown       26\n",
            "            ..\n",
            "Izmailov     1\n",
            "Bold         1\n",
            "Bonham       1\n",
            "Poninski     1\n",
            "Burbidge     1\n",
            "Name: Surname, Length: 2932, dtype: int64\n",
            "\n",
            "Column: CreditScore\n",
            "Number of unique values: 460\n",
            "Unique values: [619 608 502 699 850 645 822 376 501 684 528 497 476 549 635 616 653 587\n",
            " 726 732 636 510 669 846 577 756 571 574 411 591 533 553 520 722 475 490\n",
            " 804 582 472 465 556 834 660 776 829 637 550 698 585 788 655 601 656 725\n",
            " 511 614 742 687 555 603 751 581 735 661 675 738 813 657 604 519 664 678\n",
            " 757 416 665 777 543 506 493 652 750 729 646 647 808 524 769 730 515 773\n",
            " 814 710 413 623 670 622 785 605 479 685 538 562 721 628 668 828 674 625\n",
            " 432 770 758 795 686 789 589 461 584 579 663 682 793 691 485 650 754 535\n",
            " 716 539 706 586 631 717 800 683 704 615 667 484 480 578 512 606 597 778\n",
            " 514 525 715 580 807 521 759 516 711 618 643 671 689 620 676 572 695 592\n",
            " 567 694 547 594 673 610 767 763 712 703 662 659 523 772 545 634 739 771\n",
            " 681 544 696 766 727 693 557 531 498 651 791 733 811 707 714 782 775 799\n",
            " 602 744 588 747 583 627 731 629 438 642 806 474 559 429 680 749 734 644\n",
            " 626 649 805 718 840 630 654 762 568 613 522 737 648 443 640 540 460 593\n",
            " 801 611 802 745 483 690 492 709 705 560 752 701 537 487 596 702 486 724\n",
            " 548 464 790 534 748 494 590 468 509 818 816 536 753 774 621 569 658 798\n",
            " 641 542 692 639 765 570 638 599 632 779 527 564 833 504 842 508 417 598\n",
            " 741 607 761 848 546 439 755 760 526 713 700 666 566 495 688 612 477 427\n",
            " 839 819 720 459 503 624 529 563 482 796 445 746 786 554 672 787 499 844\n",
            " 450 815 838 803 736 633 600 679 517 792 743 488 421 841 708 507 505 456\n",
            " 435 561 518 565 728 784 552 609 764 697 723 551 444 719 496 541 830 812\n",
            " 677 420 595 617 809 500 826 434 513 478 797 363 399 463 780 452 575 837\n",
            " 794 824 428 823 781 849 489 431 457 768 831 359 820 573 576 558 817 449\n",
            " 440 415 821 530 350 446 425 740 481 783 358 845 451 458 469 423 404 836\n",
            " 473 835 466 491 351 827 843 365 532 414 453 471 401 810 832 470 447 422\n",
            " 825 430 436 426 408 847 418 437 410 454 407 455 462 386 405 383 395 467\n",
            " 433 442 424 448 441 367 412 382 373 419]\n",
            "Value counts:\n",
            "850    233\n",
            "678     63\n",
            "655     54\n",
            "705     53\n",
            "667     53\n",
            "      ... \n",
            "404      1\n",
            "351      1\n",
            "365      1\n",
            "417      1\n",
            "419      1\n",
            "Name: CreditScore, Length: 460, dtype: int64\n",
            "\n",
            "Column: Geography\n",
            "Number of unique values: 3\n",
            "Unique values: ['France' 'Spain' 'Germany']\n",
            "Value counts:\n",
            "France     5014\n",
            "Germany    2509\n",
            "Spain      2477\n",
            "Name: Geography, dtype: int64\n",
            "\n",
            "Column: Gender\n",
            "Number of unique values: 2\n",
            "Unique values: ['Female' 'Male']\n",
            "Value counts:\n",
            "Male      5457\n",
            "Female    4543\n",
            "Name: Gender, dtype: int64\n",
            "\n",
            "Column: Age\n",
            "Number of unique values: 70\n",
            "Unique values: [42 41 39 43 44 50 29 27 31 24 34 25 35 45 58 32 38 46 36 33 40 51 61 49\n",
            " 37 19 66 56 26 21 55 75 22 30 28 65 48 52 57 73 47 54 72 20 67 79 62 53\n",
            " 80 59 68 23 60 70 63 64 18 82 69 74 71 76 77 88 85 84 78 81 92 83]\n",
            "Value counts:\n",
            "37    478\n",
            "38    477\n",
            "35    474\n",
            "36    456\n",
            "34    447\n",
            "     ... \n",
            "92      2\n",
            "82      1\n",
            "88      1\n",
            "85      1\n",
            "83      1\n",
            "Name: Age, Length: 70, dtype: int64\n",
            "\n",
            "Column: Tenure\n",
            "Number of unique values: 11\n",
            "Unique values: [ 2  1  8  7  4  6  3 10  5  9  0]\n",
            "Value counts:\n",
            "2     1048\n",
            "1     1035\n",
            "7     1028\n",
            "8     1025\n",
            "5     1012\n",
            "3     1009\n",
            "4      989\n",
            "9      984\n",
            "6      967\n",
            "10     490\n",
            "0      413\n",
            "Name: Tenure, dtype: int64\n",
            "\n",
            "Column: Balance\n",
            "Number of unique values: 6382\n",
            "Unique values: [     0.    83807.86 159660.8  ...  57369.61  75075.31 130142.79]\n",
            "Value counts:\n",
            "0.00         3617\n",
            "130170.82       2\n",
            "105473.74       2\n",
            "85304.27        1\n",
            "159397.75       1\n",
            "             ... \n",
            "81556.89        1\n",
            "112687.69       1\n",
            "108698.96       1\n",
            "238387.56       1\n",
            "130142.79       1\n",
            "Name: Balance, Length: 6382, dtype: int64\n",
            "\n",
            "Column: NumOfProducts\n",
            "Number of unique values: 4\n",
            "Unique values: [1 3 2 4]\n",
            "Value counts:\n",
            "1    5084\n",
            "2    4590\n",
            "3     266\n",
            "4      60\n",
            "Name: NumOfProducts, dtype: int64\n",
            "\n",
            "Column: HasCrCard\n",
            "Number of unique values: 2\n",
            "Unique values: [1 0]\n",
            "Value counts:\n",
            "1    7055\n",
            "0    2945\n",
            "Name: HasCrCard, dtype: int64\n",
            "\n",
            "Column: IsActiveMember\n",
            "Number of unique values: 2\n",
            "Unique values: [1 0]\n",
            "Value counts:\n",
            "1    5151\n",
            "0    4849\n",
            "Name: IsActiveMember, dtype: int64\n",
            "\n",
            "Column: EstimatedSalary\n",
            "Number of unique values: 9999\n",
            "Unique values: [101348.88 112542.58 113931.57 ...  42085.58  92888.52  38190.78]\n",
            "Value counts:\n",
            "24924.92     2\n",
            "101348.88    1\n",
            "55313.44     1\n",
            "72500.68     1\n",
            "182692.80    1\n",
            "            ..\n",
            "120893.07    1\n",
            "188377.21    1\n",
            "55902.93     1\n",
            "4523.74      1\n",
            "38190.78     1\n",
            "Name: EstimatedSalary, Length: 9999, dtype: int64\n",
            "\n",
            "Column: Exited\n",
            "Number of unique values: 2\n",
            "Unique values: [1 0]\n",
            "Value counts:\n",
            "0    7963\n",
            "1    2037\n",
            "Name: Exited, dtype: int64\n",
            "\n"
          ]
        }
      ]
    },
    {
      "cell_type": "markdown",
      "source": [
        "**DATA VISUALIZATION**"
      ],
      "metadata": {
        "id": "tybHhDxrumRd"
      }
    },
    {
      "cell_type": "code",
      "source": [
        "sns.set(style=\"whitegrid\")\n",
        "\n",
        "# Plot 1: Distribution of Age\n",
        "plt.figure(figsize=(10, 6))\n",
        "sns.histplot(data['Age'], bins=30, kde=True, color='skyblue')\n",
        "plt.title('Distribution of Age')\n",
        "plt.xlabel('Age')\n",
        "plt.ylabel('Count')\n",
        "plt.show()"
      ],
      "metadata": {
        "colab": {
          "base_uri": "https://localhost:8080/",
          "height": 573
        },
        "id": "uNtd159puq1l",
        "outputId": "c197ee4b-5fe1-4f39-eff1-af79f71134f7"
      },
      "execution_count": 16,
      "outputs": [
        {
          "output_type": "display_data",
          "data": {
            "text/plain": [
              "<Figure size 1000x600 with 1 Axes>"
            ],
            "image/png": "[encoded data removed]"
          },
          "metadata": {}
        }
      ]
    },
    {
      "cell_type": "code",
      "source": [
        "# Plot 2: Count of Exited Customers\n",
        "plt.figure(figsize=(8, 5))\n",
        "sns.countplot(x='Exited', data=data, palette='viridis')\n",
        "plt.title('Count of Exited Customers (1: Exited, 0: Not Exited)')\n",
        "plt.xlabel('Exited')\n",
        "plt.ylabel('Count')\n",
        "plt.show()"
      ],
      "metadata": {
        "colab": {
          "base_uri": "https://localhost:8080/",
          "height": 496
        },
        "id": "35Zx_LB0uwBB",
        "outputId": "956577aa-cb38-4236-9267-3f453d29b079"
      },
      "execution_count": 17,
      "outputs": [
        {
          "output_type": "display_data",
          "data": {
            "text/plain": [
              "<Figure size 800x500 with 1 Axes>"
            ],
            "image/png": "[encoded data removed]"
          },
          "metadata": {}
        }
      ]
    },
    {
      "cell_type": "code",
      "source": [
        "# Plot 3: Correlation Matrix\n",
        "plt.figure(figsize=(10, 8))\n",
        "sns.heatmap(data.corr(), annot=True, cmap='coolwarm', fmt=\".2f\")\n",
        "plt.title('Correlation Matrix')\n",
        "plt.show()"
      ],
      "metadata": {
        "colab": {
          "base_uri": "https://localhost:8080/",
          "height": 869
        },
        "id": "oRRvMAF_u0HO",
        "outputId": "4d02d123-51f2-4ca7-fc39-0f31710429e4"
      },
      "execution_count": 18,
      "outputs": [
        {
          "output_type": "stream",
          "name": "stderr",
          "text": [
            "<ipython-input-18-8ec1e9ca8882>:3: FutureWarning: The default value of numeric_only in DataFrame.corr is deprecated. In a future version, it will default to False. Select only valid columns or specify the value of numeric_only to silence this warning.\n",
            "  sns.heatmap(data.corr(), annot=True, cmap='coolwarm', fmt=\".2f\")\n"
          ]
        },
        {
          "output_type": "display_data",
          "data": {
            "text/plain": [
              "<Figure size 1000x800 with 2 Axes>"
            ],
            "image/png": "[encoded data removed]"
          },
          "metadata": {}
        }
      ]
    },
    {
      "cell_type": "code",
      "source": [
        "# Plot 4: Boxplot of Credit Score by Exit Status\n",
        "plt.figure(figsize=(10, 6))\n",
        "sns.boxplot(x='Exited', y='CreditScore', data=data, palette='pastel')\n",
        "plt.title('Credit Score Distribution by Exit Status')\n",
        "plt.xlabel('Exited')\n",
        "plt.ylabel('Credit Score')\n",
        "plt.show()"
      ],
      "metadata": {
        "colab": {
          "base_uri": "https://localhost:8080/",
          "height": 573
        },
        "id": "FlW6bYhVwRSU",
        "outputId": "f8b5b061-42ca-47fc-bc64-545d58c9d2f5"
      },
      "execution_count": 19,
      "outputs": [
        {
          "output_type": "display_data",
          "data": {
            "text/plain": [
              "<Figure size 1000x600 with 1 Axes>"
            ],
            "image/png": "[encoded data removed]"
          },
          "metadata": {}
        }
      ]
    },
    {
      "cell_type": "markdown",
      "source": [
        "**DECISION TREE CLASSIFIER**"
      ],
      "metadata": {
        "id": "VlB_GmLdavwS"
      }
    },
    {
      "cell_type": "code",
      "source": [
        "X = data.drop(['RowNumber', 'CustomerId', 'Surname', 'Exited'], axis=1)\n",
        "y = data['Exited']\n",
        "\n",
        "# Convert categorical variables to numerical values\n",
        "X['Geography'] = X['Geography'].map({'France': 0, 'Spain': 1})\n",
        "X['Gender'] = X['Gender'].map({'Female': 0, 'Male': 1})\n",
        "\n",
        "# Split the data into training and testing sets\n",
        "X_train, X_test, y_train, y_test = train_test_split(X, y, test_size=0.2, random_state=42)\n",
        "\n",
        "# Impute missing values\n",
        "imputer = SimpleImputer(strategy='mean')\n",
        "X_train_imputed = pd.DataFrame(imputer.fit_transform(X_train), columns=X_train.columns)\n",
        "X_test_imputed = pd.DataFrame(imputer.transform(X_test), columns=X_test.columns)\n",
        "\n",
        "# Create a decision tree classifier\n",
        "clf = DecisionTreeClassifier(random_state=42)\n",
        "\n",
        "# Fit the classifier to the training data\n",
        "clf.fit(X_train_imputed, y_train)\n",
        "\n",
        "# Make predictions on the testing set\n",
        "y_pred = clf.predict(X_test_imputed)"
      ],
      "metadata": {
        "id": "Ln6EJOFsrdJ2"
      },
      "execution_count": 26,
      "outputs": []
    },
    {
      "cell_type": "markdown",
      "source": [
        "**EVALUATING THE PERFORMANCE**"
      ],
      "metadata": {
        "id": "OSa7C5cKwc13"
      }
    },
    {
      "cell_type": "code",
      "source": [
        "accuracy = accuracy_score(y_test, y_pred)\n",
        "print(f\"Accuracy: {accuracy}\")"
      ],
      "metadata": {
        "colab": {
          "base_uri": "https://localhost:8080/"
        },
        "id": "nKeASjkwriG7",
        "outputId": "20714494-f2c7-4df1-c058-22c877640644"
      },
      "execution_count": 27,
      "outputs": [
        {
          "output_type": "stream",
          "name": "stdout",
          "text": [
            "Accuracy: 0.782\n"
          ]
        }
      ]
    },
    {
      "cell_type": "code",
      "source": [
        "conf_matrix = confusion_matrix(y_test, y_pred)\n",
        "print(f\"Confusion Matrix:\\n{conf_matrix}\")"
      ],
      "metadata": {
        "colab": {
          "base_uri": "https://localhost:8080/"
        },
        "id": "6afJ2ybErkzn",
        "outputId": "ce689ace-589a-464a-c910-47e96cf916ea"
      },
      "execution_count": 28,
      "outputs": [
        {
          "output_type": "stream",
          "name": "stdout",
          "text": [
            "Confusion Matrix:\n",
            "[[1358  249]\n",
            " [ 187  206]]\n"
          ]
        }
      ]
    },
    {
      "cell_type": "code",
      "source": [
        "plt.figure(figsize=(8, 6))\n",
        "sns.heatmap(conf_matrix, annot=True, fmt=\"d\", cmap=\"Blues\", cbar=False,xticklabels=clf.classes_, yticklabels=clf.classes_)\n",
        "plt.xlabel('Predicted Label')\n",
        "plt.ylabel('True Label')\n",
        "plt.title('Confusion Matrix')\n",
        "plt.show()"
      ],
      "metadata": {
        "colab": {
          "base_uri": "https://localhost:8080/",
          "height": 573
        },
        "id": "MMcUswJJr9eU",
        "outputId": "5ecb409a-3f18-4c0e-b93d-77eb4fa69a8f"
      },
      "execution_count": 29,
      "outputs": [
        {
          "output_type": "display_data",
          "data": {
            "text/plain": [
              "<Figure size 800x600 with 1 Axes>"
            ],
            "image/png": "[encoded data removed]"
          },
          "metadata": {}
        }
      ]
    },
    {
      "cell_type": "code",
      "source": [
        "class_report = classification_report(y_test, y_pred)\n",
        "print(f\"Classification Report:\\n{class_report}\")"
      ],
      "metadata": {
        "colab": {
          "base_uri": "https://localhost:8080/"
        },
        "id": "vvwXB0m_rtXB",
        "outputId": "cd9c07da-f8d2-496e-a562-ecc0f8d39021"
      },
      "execution_count": 30,
      "outputs": [
        {
          "output_type": "stream",
          "name": "stdout",
          "text": [
            "Classification Report:\n",
            "              precision    recall  f1-score   support\n",
            "\n",
            "           0       0.88      0.85      0.86      1607\n",
            "           1       0.45      0.52      0.49       393\n",
            "\n",
            "    accuracy                           0.78      2000\n",
            "   macro avg       0.67      0.68      0.67      2000\n",
            "weighted avg       0.80      0.78      0.79      2000\n",
            "\n"
          ]
        }
      ]
    }
  ]
}